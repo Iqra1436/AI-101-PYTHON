{
 "cells": [
  {
   "cell_type": "markdown",
   "metadata": {},
   "source": [
    "    02_class(string_fstring)\n",
    "\n"
   ]
  },
  {
   "cell_type": "markdown",
   "metadata": {},
   "source": [
    "String Data type in python"
   ]
  },
  {
   "cell_type": "code",
   "execution_count": 2,
   "metadata": {},
   "outputs": [
    {
     "name": "stdout",
     "output_type": "stream",
     "text": [
      "iqra\n"
     ]
    }
   ],
   "source": [
    "# single courts ('')\n",
    "name:str = 'iqra'\n",
    "print(name)"
   ]
  },
  {
   "cell_type": "code",
   "execution_count": 5,
   "metadata": {},
   "outputs": [
    {
     "name": "stdout",
     "output_type": "stream",
     "text": [
      "Jahangir\n"
     ]
    }
   ],
   "source": [
    "# Double courts (\"\")\n",
    "name:str = \"Jahangir\"\n",
    "print(name)"
   ]
  },
  {
   "cell_type": "code",
   "execution_count": 7,
   "metadata": {},
   "outputs": [
    {
     "name": "stdout",
     "output_type": "stream",
     "text": [
      "Iqra Jahangir\n"
     ]
    }
   ],
   "source": [
    "# Triple Courts (\"\"\"\")\n",
    "name:str =\"\"\"Iqra Jahangir\"\"\"\n",
    "print(name)"
   ]
  },
  {
   "cell_type": "markdown",
   "metadata": {},
   "source": [
    "Example with single courts('    ')"
   ]
  },
  {
   "cell_type": "code",
   "execution_count": 24,
   "metadata": {},
   "outputs": [
    {
     "name": "stdout",
     "output_type": "stream",
     "text": [
      "Hey Iqra,\"How are you\"\n",
      "I am fine, Alhumdulillah\n"
     ]
    }
   ],
   "source": [
    "message : str = 'Hey Iqra,\"How are you\"\\nI am fine, Alhumdulillah'\n",
    "print(message)"
   ]
  },
  {
   "cell_type": "markdown",
   "metadata": {},
   "source": [
    "Example with Double courts(\"    \")"
   ]
  },
  {
   "cell_type": "code",
   "execution_count": 26,
   "metadata": {},
   "outputs": [
    {
     "name": "stdout",
     "output_type": "stream",
     "text": [
      "What's youe Education \n",
      "& where are you from\n"
     ]
    }
   ],
   "source": [
    "message : str = \"What's youe Education \\n& where are you from\"\n",
    "print(message)"
   ]
  },
  {
   "cell_type": "code",
   "execution_count": 27,
   "metadata": {},
   "outputs": [
    {
     "name": "stdout",
     "output_type": "stream",
     "text": [
      "Student Card Details \n",
      "Student name :  Iqra Jahangir \n",
      "Father_Name :  Muhammad Jahangir \n",
      "Education :  Bachlour's \n",
      "Age :  24\n"
     ]
    }
   ],
   "source": [
    "name : str = \"Iqra Jahangir\"\n",
    "f_name :str = \"Muhammad Jahangir\"\n",
    "education : str = \"Bachlour's\"\n",
    "age : int = 24\n",
    "\n",
    "print(\"Student Card Details \\nStudent name : \",name,\"\\nFather_Name : \",f_name,\"\\nEducation : \",education,\"\\nAge : \",str(age))"
   ]
  },
  {
   "cell_type": "markdown",
   "metadata": {},
   "source": [
    "\"\\\" line continue"
   ]
  },
  {
   "cell_type": "code",
   "execution_count": 31,
   "metadata": {},
   "outputs": [
    {
     "name": "stdout",
     "output_type": "stream",
     "text": [
      "54.6\n"
     ]
    }
   ],
   "source": [
    "print(5 * \\\n",
    "      10 + \\\n",
    "      5  -  \\\n",
    "      2  /   \\\n",
    "        5)"
   ]
  },
  {
   "cell_type": "markdown",
   "metadata": {},
   "source": [
    "Define multiline string \"\"\" \"\"\", ''' '''"
   ]
  },
  {
   "cell_type": "code",
   "execution_count": 36,
   "metadata": {},
   "outputs": [
    {
     "name": "stdout",
     "output_type": "stream",
     "text": [
      "\n",
      "Student Card \n",
      "First Name : \n",
      "Last Name : \n",
      "Phone No :\n",
      "Email : \n",
      "Education :\n",
      "Age : \n",
      "City :\n",
      "\n"
     ]
    }
   ],
   "source": [
    "first_name : str = \"Iqra\"\n",
    "last_name :str = \"Jahangir\"\n",
    "education : str = \"Bachlour's\"\n",
    "age : int = 24\n",
    "email : str = \"abc@gmail.com\"\n",
    "phone_no : int = 000000000000\n",
    "city : str = \"Karachi\"\n",
    "\n",
    "card:str = \"\"\"\n",
    "Student Card \n",
    "First Name : \n",
    "Last Name : \n",
    "Phone No :\n",
    "Email : \n",
    "Education :\n",
    "Age : \n",
    "City :\n",
    "\"\"\"\n",
    "print(card)"
   ]
  },
  {
   "cell_type": "markdown",
   "metadata": {},
   "source": [
    "F-string & Jinja Style in pthon"
   ]
  },
  {
   "cell_type": "code",
   "execution_count": 57,
   "metadata": {},
   "outputs": [
    {
     "name": "stdout",
     "output_type": "stream",
     "text": [
      "\n",
      "student name : iqra\n",
      "\n",
      "\n",
      "student name {name}\n",
      "\n"
     ]
    }
   ],
   "source": [
    "# F-string\n",
    "name : str = \"iqra\"\n",
    "print(f\"\"\"\n",
    "student name : {name}\n",
    "\"\"\")\n",
    "\n",
    "# Jinja Style\n",
    "\n",
    "print(f\"\"\"\n",
    "student name {{name}}\n",
    "\"\"\")"
   ]
  },
  {
   "cell_type": "code",
   "execution_count": 39,
   "metadata": {},
   "outputs": [
    {
     "name": "stdout",
     "output_type": "stream",
     "text": [
      "\n",
      "Student Card \n",
      "First Name : Iqra \n",
      "Last Name : Jahangir\n",
      "Phone No : 333\n",
      "Email : abc@gmail.com\n",
      "Education : Bachlour's\n",
      "Age : 24\n",
      "City : Karachi\n",
      "\n"
     ]
    }
   ],
   "source": [
    "first_name : str = \"Iqra\"\n",
    "last_name :str = \"Jahangir\"\n",
    "education : str = \"Bachlour's\"\n",
    "age : int = 24\n",
    "email : str = \"abc@gmail.com\"\n",
    "phone_no : int = 333\n",
    "city : str = \"Karachi\"\n",
    "\n",
    "card:str = f\"\"\"\n",
    "Student Card \n",
    "First Name : {first_name} \n",
    "Last Name : {last_name}\n",
    "Phone No : {phone_no}\n",
    "Email : {email}\n",
    "Education : {education}\n",
    "Age : {age}\n",
    "City : {city}\n",
    "\"\"\"\n",
    "print(card)"
   ]
  },
  {
   "cell_type": "code",
   "execution_count": 104,
   "metadata": {},
   "outputs": [
    {
     "name": "stdout",
     "output_type": "stream",
     "text": [
      "\n",
      "Student Card \n",
      "first Name : Sheikh\n",
      "last name :  Huzaifa\n",
      "education : Intermediate\n",
      "age : 18\n",
      "Email : abc@gmail.com\n",
      "phone no : 333\n",
      "City : Karachi\n",
      "\n"
     ]
    }
   ],
   "source": [
    "first_name : str = \"Sheikh\"\n",
    "last_name :str = \"Huzaifa\"\n",
    "education : str = \"Intermediate\"\n",
    "age : int = 18\n",
    "email : str = \"abc@gmail.com\"\n",
    "phone_no : int = 333\n",
    "city : str = \"Karachi\"\n",
    "\n",
    "card : str = f\"\"\"\n",
    "Student Card \n",
    "first Name : %s\n",
    "last name :  %s\n",
    "education : %s\n",
    "age : %d\n",
    "Email : %s\n",
    "phone no : %s\n",
    "City : %s\n",
    "\"\"\" %(first_name, last_name, education, age, email, phone_no, city)\n",
    "\n",
    "print(card)"
   ]
  },
  {
   "cell_type": "markdown",
   "metadata": {},
   "source": [
    "Explore String Method & Attributes "
   ]
  },
  {
   "cell_type": "code",
   "execution_count": 97,
   "metadata": {},
   "outputs": [
    {
     "data": {
      "text/plain": [
       "['capitalize',\n",
       " 'casefold',\n",
       " 'center',\n",
       " 'count',\n",
       " 'encode',\n",
       " 'endswith',\n",
       " 'expandtabs',\n",
       " 'find',\n",
       " 'format',\n",
       " 'format_map',\n",
       " 'index',\n",
       " 'isalnum',\n",
       " 'isalpha',\n",
       " 'isascii',\n",
       " 'isdecimal',\n",
       " 'isdigit',\n",
       " 'isidentifier',\n",
       " 'islower',\n",
       " 'isnumeric',\n",
       " 'isprintable',\n",
       " 'isspace',\n",
       " 'istitle',\n",
       " 'isupper',\n",
       " 'join',\n",
       " 'ljust',\n",
       " 'lower',\n",
       " 'lstrip',\n",
       " 'maketrans',\n",
       " 'partition',\n",
       " 'removeprefix',\n",
       " 'removesuffix',\n",
       " 'replace',\n",
       " 'rfind',\n",
       " 'rindex',\n",
       " 'rjust',\n",
       " 'rpartition',\n",
       " 'rsplit',\n",
       " 'rstrip',\n",
       " 'split',\n",
       " 'splitlines',\n",
       " 'startswith',\n",
       " 'strip',\n",
       " 'swapcase',\n",
       " 'title',\n",
       " 'translate',\n",
       " 'upper',\n",
       " 'zfill']"
      ]
     },
     "execution_count": 97,
     "metadata": {},
     "output_type": "execute_result"
    }
   ],
   "source": [
    "# pre-define global function we have used\n",
    "\n",
    "#     print\n",
    "#     type\n",
    "#     id\n",
    "#     dir\n",
    "#     len\n",
    "\n",
    "# Method & Attributes Checking method\n",
    "[i for i in dir(str) if \"__\" not in i]"
   ]
  },
  {
   "cell_type": "markdown",
   "metadata": {},
   "source": [
    "{  } placehonder"
   ]
  },
  {
   "cell_type": "code",
   "execution_count": 102,
   "metadata": {},
   "outputs": [
    {
     "name": "stdout",
     "output_type": "stream",
     "text": [
      "1st Value  50 and 2nd value  20\n"
     ]
    }
   ],
   "source": [
    "a : int = 50\n",
    "b : int = 20\n",
    "print(\"1st Value  {} and 2nd value  {}\".format(a,b))"
   ]
  },
  {
   "cell_type": "code",
   "execution_count": 217,
   "metadata": {},
   "outputs": [
    {
     "name": "stdout",
     "output_type": "stream",
     "text": [
      "  pAK 'Capitalize case' Pak\n",
      "  KISTAN 'Lower case' kistan\n",
      "  karachi  'UPPER CASEcase' KARACHI\n",
      "  LaHoRe  'Title case' Lahore\n",
      "  isLAMAbad  'Casefolder case' islamabad\n",
      "  isLAMAbad  'variable len' 9\n"
     ]
    }
   ],
   "source": [
    "# capitalize method\n",
    "# lower method\n",
    "# upper method\n",
    "# title method\n",
    "# casefolder method\n",
    "# len method\n",
    "\n",
    "# capitlize  method\n",
    "name : str = \"pAK\"\n",
    "print(f\"  {name} 'Capitalize case' {name.capitalize()}\")\n",
    "\n",
    "# lower method\n",
    "name : str = \"KISTAN\"\n",
    "print(f\"  {name} 'Lower case' {name.lower()}\")\n",
    "\n",
    "# upper method\n",
    "name : str = \"karachi\"\n",
    "print(f\"  {name}  'UPPER CASEcase' {name.upper()}\")\n",
    "\n",
    "\n",
    "# title method\n",
    "name : str = \"LaHoRe\"\n",
    "print(f\"  {name}  'Title case' {name.title()}\")\n",
    "\n",
    "# Casefolder method\n",
    "name : str = \"isLAMAbad\"\n",
    "print(f\"  {name}  'Casefolder case' {name.casefold()}\")\n",
    "\n",
    "# len method\n",
    "name : str = \"isLAMAbad\"\n",
    "print(f\"  {name}  'variable len' {len(name)}\")"
   ]
  },
  {
   "cell_type": "markdown",
   "metadata": {},
   "source": [
    "String Method (lstrip)"
   ]
  },
  {
   "cell_type": "code",
   "execution_count": 218,
   "metadata": {},
   "outputs": [
    {
     "data": {
      "text/plain": [
       "'    Hello     World      '"
      ]
     },
     "metadata": {},
     "output_type": "display_data"
    },
    {
     "data": {
      "text/plain": [
       "'Hello     World      '"
      ]
     },
     "metadata": {},
     "output_type": "display_data"
    }
   ],
   "source": [
    "# lstrip method for remove spacing from left side\n",
    "name : str = \"    Hello     World      \"\n",
    "display(name)\n",
    "display(name.lstrip())\n"
   ]
  },
  {
   "cell_type": "markdown",
   "metadata": {},
   "source": [
    "String Mehthod (rstrip)"
   ]
  },
  {
   "cell_type": "code",
   "execution_count": null,
   "metadata": {},
   "outputs": [
    {
     "data": {
      "text/plain": [
       "'    Hello     World      '"
      ]
     },
     "metadata": {},
     "output_type": "display_data"
    },
    {
     "data": {
      "text/plain": [
       "'    Hello     World'"
      ]
     },
     "metadata": {},
     "output_type": "display_data"
    }
   ],
   "source": [
    "# rstrip method for remove spacing from right side\n",
    "name : str = \"    Hello     World      \"\n",
    "display(name)\n",
    "display(name.rstrip())"
   ]
  },
  {
   "cell_type": "markdown",
   "metadata": {},
   "source": [
    "string Method (strip)"
   ]
  },
  {
   "cell_type": "code",
   "execution_count": 219,
   "metadata": {},
   "outputs": [
    {
     "data": {
      "text/plain": [
       "'    Hello     World      '"
      ]
     },
     "metadata": {},
     "output_type": "display_data"
    },
    {
     "data": {
      "text/plain": [
       "'Hello     World'"
      ]
     },
     "metadata": {},
     "output_type": "display_data"
    }
   ],
   "source": [
    "# strip method for remove spacing from both side\n",
    "name : str = \"    Hello     World      \"\n",
    "display(name)\n",
    "display(name.strip())"
   ]
  },
  {
   "cell_type": "markdown",
   "metadata": {},
   "source": [
    "import re \n",
    "for remove center spaces"
   ]
  },
  {
   "cell_type": "code",
   "execution_count": 220,
   "metadata": {},
   "outputs": [
    {
     "data": {
      "text/plain": [
       "'    Hello     World      '"
      ]
     },
     "metadata": {},
     "output_type": "display_data"
    },
    {
     "data": {
      "text/plain": [
       "'Hello World'"
      ]
     },
     "metadata": {},
     "output_type": "display_data"
    }
   ],
   "source": [
    "#  syntax new_varibale name : str =re.sub(' {2,100}',' ', variable name).strip()\n",
    "import re \n",
    "name : str = \"    Hello     World      \"\n",
    "display(name)\n",
    "name1 : str = re.sub(' {2,100}',' ', name).strip()\n",
    "display(name1)"
   ]
  },
  {
   "cell_type": "code",
   "execution_count": 226,
   "metadata": {},
   "outputs": [
    {
     "name": "stdout",
     "output_type": "stream",
     "text": [
      "Name : Iqra Jahangir \n",
      "Education : Bachlou's\n",
      "Name : \t Iqra Jahangir\n",
      "Name : Iqra Jahangir\n"
     ]
    }
   ],
   "source": [
    "# \"\\n \"for new line\n",
    "# \"\\t \"for space\n",
    "# \"\\b \"for backspace\n",
    "\n",
    "print(\"Name : Iqra Jahangir \\nEducation : Bachlou's\") # \\n for new line\n",
    "print(\"Name : \\t Iqra Jahangir\") # \\t space befor start\n",
    "print(\"Name : \\b Iqra Jahangir\") # \\b for backspace\n"
   ]
  },
  {
   "cell_type": "code",
   "execution_count": 227,
   "metadata": {},
   "outputs": [
    {
     "data": {
      "text/plain": [
       "'nostarch.com'"
      ]
     },
     "execution_count": 227,
     "metadata": {},
     "output_type": "execute_result"
    }
   ],
   "source": [
    "nostarch_url:str = 'https://nostarch.com'\n",
    "nostarch_url.removeprefix('https://')"
   ]
  }
 ],
 "metadata": {
  "kernelspec": {
   "display_name": "myenv",
   "language": "python",
   "name": "python3"
  },
  "language_info": {
   "codemirror_mode": {
    "name": "ipython",
    "version": 3
   },
   "file_extension": ".py",
   "mimetype": "text/x-python",
   "name": "python",
   "nbconvert_exporter": "python",
   "pygments_lexer": "ipython3",
   "version": "3.12.0"
  }
 },
 "nbformat": 4,
 "nbformat_minor": 2
}
