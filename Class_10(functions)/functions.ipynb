{
 "cells": [
  {
   "cell_type": "markdown",
   "metadata": {},
   "source": [
    "function practice"
   ]
  },
  {
   "cell_type": "code",
   "execution_count": null,
   "metadata": {},
   "outputs": [
    {
     "data": {
      "text/plain": [
       "64"
      ]
     },
     "metadata": {},
     "output_type": "display_data"
    }
   ],
   "source": [
    "def myname(j , i):\n",
    "  return c + d\n",
    "myname(60,4)"
   ]
  },
  {
   "cell_type": "markdown",
   "metadata": {},
   "source": [
    "Use functions to create addition, subtraction, multiplication and division based functions. (dynamic function)"
   ]
  },
  {
   "cell_type": "code",
   "execution_count": null,
   "metadata": {},
   "outputs": [
    {
     "name": "stdout",
     "output_type": "stream",
     "text": [
      "1st Number 2\n",
      "2nd Number 3\n",
      "Addition  5\n",
      "subtraction  -1\n",
      "multiply  6\n",
      "division  0.6666666666666666\n"
     ]
    }
   ],
   "source": [
    "a=int(input(\"1st Number \"))\n",
    "b=int(input(\"2nd Number \"))\n",
    "# Addition\n",
    "def add():\n",
    "    print(\"Addition \",a+b)\n",
    "add()\n",
    "# Substraction\n",
    "def sub():\n",
    "    print(\"subtraction \",a-b)\n",
    "sub()\n",
    "# Multiplication\n",
    "def multiply():\n",
    "    print(\"multiply \",a*b)\n",
    "multiply()\n",
    "# division\n",
    "def division():\n",
    "    print(\"division \",a/b)\n",
    "division()"
   ]
  },
  {
   "cell_type": "markdown",
   "metadata": {},
   "source": [
    "Use functions to create a calculator"
   ]
  },
  {
   "cell_type": "code",
   "execution_count": null,
   "metadata": {},
   "outputs": [
    {
     "name": "stdout",
     "output_type": "stream",
     "text": [
      "Enter the first number: 9\n",
      "Enter the second number: 8\n",
      "(+, - , * , / , or 'q' to quit): /\n",
      "Result: 1.125\n"
     ]
    }
   ],
   "source": [
    "def add(x, y):\n",
    "    return x + y\n",
    "\n",
    "def subtract(x, y):\n",
    "    return x - y\n",
    "\n",
    "def multiply(x, y):\n",
    "    return x * y\n",
    "\n",
    "def division(x, y):\n",
    "    return x / y\n",
    "\n",
    "def calculator():\n",
    "\n",
    "    while True:\n",
    "        try:\n",
    "            num1 = int(input(\"Enter the first number: \"))\n",
    "            num2 = int(input(\"Enter the second number: \"))\n",
    "            operator = input(\"(+, - , * , / , or 'q' to quit): \")\n",
    "\n",
    "            if operator == '+':\n",
    "                print(\"Result:\", add(num1, num2))\n",
    "                break\n",
    "            elif operator == '-':\n",
    "                print(\"Result:\", subtract(num1, num2))\n",
    "                break\n",
    "            elif operator == '*':\n",
    "                print(\"Result:\", multiply(num1, num2))\n",
    "                break\n",
    "            elif operator == '/':\n",
    "                print(\"Result:\", division(num1, num2))\n",
    "                break\n",
    "            elif operator== 'q':\n",
    "                print(\"Exiting...\")\n",
    "                break\n",
    "            else:\n",
    "                print(\"Invalid operator! Please choice again.\")\n",
    "        except ValueError:\n",
    "            print(\"Invalid input! Please enter valid numbers.\")\n",
    "\n",
    "if __name__ == \"__main__\":\n",
    "    calculator()"
   ]
  },
  {
   "cell_type": "markdown",
   "metadata": {},
   "source": [
    "<div class=\"markdown-google-sans\">\n",
    "  <h1>Welcome to Colab!</h1>\n",
    "</div>\n",
    "\n",
    "<div class=\"markdown-google-sans\">\n",
    "  <h2>Explore the Gemini API</h2>\n",
    "  <p>The Gemini API gives you access to Gemini models created by Google DeepMind. Gemini models are built from the ground up to be multimodal, so you can reason seamlessly across text, images, code, and audio.\n",
    "  </p>\n",
    "  <strong>How to get started</strong>\n",
    "    <ol>\n",
    "      <li>Go to <a href=\"https://aistudio.google.com/\">Google AI Studio</a> and log in with your Google account.</li>\n",
    "      <li><a href=\"https://aistudio.google.com/app/apikey\">Create an API key</a>.</li>\n",
    "      <li>Use a quickstart for <a href=\"https://colab.research.google.com/github/google-gemini/cookbook/blob/main/quickstarts/Prompting.ipynb\">Python</a>, or call the REST API using <a href=\"https://colab.research.google.com/github/google-gemini/cookbook/blob/main/quickstarts/rest/Prompting_REST.ipynb\">curl</a>.</li>\n",
    "      </ol>\n",
    "  <strong>Explore use cases</strong>\n",
    "    <ul>\n",
    "      <li><a href=\"https://colab.research.google.com/github/google-gemini/cookbook/blob/main/examples/Market_a_Jet_Backpack.ipynb\">Create a marketing campaign</a></li>\n",
    "      <li><a href=\"https://colab.research.google.com/github/google-gemini/cookbook/blob/main/quickstarts/Audio.ipynb\">Analyze audio recordings</a></li>\n",
    "      <li><a href=\"https://colab.research.google.com/github/google-gemini/cookbook/blob/main/quickstarts/System_instructions.ipynb\">Use System instructions in chat</a></li>\n",
    "    </ul>\n",
    "  <p>To learn more, check out the <a href=\"https://github.com/google-gemini/cookbook\">Gemini cookbook</a> or visit the <a href=\"https://ai.google.dev/docs/\">Gemini API documentation</a>.\n",
    "  </p>\n",
    "</div>\n"
   ]
  },
  {
   "cell_type": "markdown",
   "metadata": {},
   "source": [
    "<div class=\"markdown-google-sans\">\n",
    "  <h1>Welcome to Colab!</h1>\n",
    "</div>\n",
    "\n",
    "<div class=\"markdown-google-sans\">\n",
    "  <h2>Explore the Gemini API</h2>\n",
    "  <p>The Gemini API gives you access to Gemini models created by Google DeepMind. Gemini models are built from the ground up to be multimodal, so you can reason seamlessly across text, images, code, and audio.\n",
    "  </p>\n",
    "  <strong>How to get started</strong>\n",
    "    <ol>\n",
    "      <li>Go to <a href=\"https://aistudio.google.com/\">Google AI Studio</a> and log in with your Google account.</li>\n",
    "      <li><a href=\"https://aistudio.google.com/app/apikey\">Create an API key</a>.</li>\n",
    "      <li>Use a quickstart for <a href=\"https://colab.research.google.com/github/google-gemini/cookbook/blob/main/quickstarts/Prompting.ipynb\">Python</a>, or call the REST API using <a href=\"https://colab.research.google.com/github/google-gemini/cookbook/blob/main/quickstarts/rest/Prompting_REST.ipynb\">curl</a>.</li>\n",
    "      </ol>\n",
    "  <strong>Explore use cases</strong>\n",
    "    <ul>\n",
    "      <li><a href=\"https://colab.research.google.com/github/google-gemini/cookbook/blob/main/examples/Market_a_Jet_Backpack.ipynb\">Create a marketing campaign</a></li>\n",
    "      <li><a href=\"https://colab.research.google.com/github/google-gemini/cookbook/blob/main/quickstarts/Audio.ipynb\">Analyze audio recordings</a></li>\n",
    "      <li><a href=\"https://colab.research.google.com/github/google-gemini/cookbook/blob/main/quickstarts/System_instructions.ipynb\">Use System instructions in chat</a></li>\n",
    "    </ul>\n",
    "  <p>To learn more, check out the <a href=\"https://github.com/google-gemini/cookbook\">Gemini cookbook</a> or visit the <a href=\"https://ai.google.dev/docs/\">Gemini API documentation</a>.\n",
    "  </p>\n",
    "</div>\n"
   ]
  },
  {
   "cell_type": "markdown",
   "metadata": {},
   "source": [
    "<div class=\"markdown-google-sans\">\n",
    "  <h1>Welcome to Colab!</h1>\n",
    "</div>\n",
    "\n",
    "<div class=\"markdown-google-sans\">\n",
    "  <h2>Explore the Gemini API</h2>\n",
    "  <p>The Gemini API gives you access to Gemini models created by Google DeepMind. Gemini models are built from the ground up to be multimodal, so you can reason seamlessly across text, images, code, and audio.\n",
    "  </p>\n",
    "  <strong>How to get started</strong>\n",
    "    <ol>\n",
    "      <li>Go to <a href=\"https://aistudio.google.com/\">Google AI Studio</a> and log in with your Google account.</li>\n",
    "      <li><a href=\"https://aistudio.google.com/app/apikey\">Create an API key</a>.</li>\n",
    "      <li>Use a quickstart for <a href=\"https://colab.research.google.com/github/google-gemini/cookbook/blob/main/quickstarts/Prompting.ipynb\">Python</a>, or call the REST API using <a href=\"https://colab.research.google.com/github/google-gemini/cookbook/blob/main/quickstarts/rest/Prompting_REST.ipynb\">curl</a>.</li>\n",
    "      </ol>\n",
    "  <strong>Explore use cases</strong>\n",
    "    <ul>\n",
    "      <li><a href=\"https://colab.research.google.com/github/google-gemini/cookbook/blob/main/examples/Market_a_Jet_Backpack.ipynb\">Create a marketing campaign</a></li>\n",
    "      <li><a href=\"https://colab.research.google.com/github/google-gemini/cookbook/blob/main/quickstarts/Audio.ipynb\">Analyze audio recordings</a></li>\n",
    "      <li><a href=\"https://colab.research.google.com/github/google-gemini/cookbook/blob/main/quickstarts/System_instructions.ipynb\">Use System instructions in chat</a></li>\n",
    "    </ul>\n",
    "  <p>To learn more, check out the <a href=\"https://github.com/google-gemini/cookbook\">Gemini cookbook</a> or visit the <a href=\"https://ai.google.dev/docs/\">Gemini API documentation</a>.\n",
    "  </p>\n",
    "</div>\n"
   ]
  }
 ],
 "metadata": {
  "language_info": {
   "name": "python"
  }
 },
 "nbformat": 4,
 "nbformat_minor": 2
}
