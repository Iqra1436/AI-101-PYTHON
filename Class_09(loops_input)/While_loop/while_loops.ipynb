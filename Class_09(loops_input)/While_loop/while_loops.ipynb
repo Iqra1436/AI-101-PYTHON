{
 "cells": [
  {
   "cell_type": "markdown",
   "metadata": {},
   "source": [
    "Python Loops\n",
    "Python has two primitive loop commands:\n",
    "\n",
    "*   while loops\n",
    "*   for loops\n",
    "\n",
    "\n",
    "   \n",
    "\n",
    "\n",
    "\n"
   ]
  },
  {
   "cell_type": "markdown",
   "metadata": {},
   "source": [
    "The while Loop\n",
    "\n",
    "With the while loop we can execute a set of statements as long as a condition is true."
   ]
  },
  {
   "cell_type": "markdown",
   "metadata": {},
   "source": [
    "Question .01\n",
    "Print numbers from 1 to 50"
   ]
  },
  {
   "cell_type": "code",
   "execution_count": null,
   "metadata": {},
   "outputs": [],
   "source": [
    "a = 1\n",
    "while a <=50:\n",
    "  print(a, end =\" \")\n",
    "  a+=1\n"
   ]
  },
  {
   "cell_type": "markdown",
   "metadata": {},
   "source": [
    "Question .02 Print numbers from 50 to 1"
   ]
  },
  {
   "cell_type": "code",
   "execution_count": null,
   "metadata": {},
   "outputs": [],
   "source": [
    "a =50\n",
    "while a >=1:\n",
    "  print(a, end =\" \")\n",
    "  a-=1"
   ]
  },
  {
   "cell_type": "markdown",
   "metadata": {},
   "source": [
    "Question.03\n",
    "Print the multiplication table of a number n"
   ]
  },
  {
   "cell_type": "code",
   "execution_count": null,
   "metadata": {},
   "outputs": [],
   "source": [
    "n=int(input(\"Enter Number : \"))\n",
    "a =1\n",
    "while a<=10:\n",
    "  print(f\"{n} X {a} = {n*a} \")\n",
    "  a+=1"
   ]
  },
  {
   "cell_type": "code",
   "execution_count": null,
   "metadata": {},
   "outputs": [],
   "source": [
    "# For LOOP\n",
    "num=int(input(\"Enter Number: \"))\n",
    "for i in range (1,11):\n",
    "  print(f\"{num} X {i} = {i*num}\")"
   ]
  },
  {
   "cell_type": "markdown",
   "metadata": {},
   "source": [
    "Lists , function , loop All in one"
   ]
  },
  {
   "cell_type": "code",
   "execution_count": null,
   "metadata": {},
   "outputs": [
    {
     "name": "stdout",
     "output_type": "stream",
     "text": [
      "Python Programming Web Development Graphic Desgining Flutter Development 23 4 5 22 44 56 34 "
     ]
    }
   ],
   "source": [
    "Courses=[\"Python Programming\",\"Web Development\",\"Graphic Desgining\",\"Flutter Development\"]\n",
    "my_list= [23,4,5,22,44,56,34]\n",
    "\n",
    "def my_function(list):\n",
    "  for item in list:\n",
    "    print(item, end=\" \")\n",
    "\n",
    "my_function(Courses)\n",
    "my_function(my_list)"
   ]
  },
  {
   "cell_type": "markdown",
   "metadata": {},
   "source": [
    "Question 04 .\n",
    "  Print the elements of the following list using a loop:"
   ]
  },
  {
   "cell_type": "code",
   "execution_count": null,
   "metadata": {},
   "outputs": [
    {
     "name": "stdout",
     "output_type": "stream",
     "text": [
      "Iqra Jahangir Fatima Jahangir Uzma Jahangir Kishwar Jahangir Kosar Jahangir Najma Jahangir Asma Jahangir Salma Jahangir "
     ]
    }
   ],
   "source": [
    "first_names = ['Iqra','Fatima','Uzma','Kishwar','Kosar','Najma','Asma','Salma']\n",
    "last_name =\"Jahangir\"\n",
    "i=0\n",
    "while i < len(first_names):\n",
    "    print(first_names[i],last_name, end=\" \")\n",
    "    i +=1"
   ]
  },
  {
   "cell_type": "markdown",
   "metadata": {},
   "source": [
    "Question 05. Search for a number x in this tuple using loop:"
   ]
  },
  {
   "cell_type": "code",
   "execution_count": null,
   "metadata": {},
   "outputs": [
    {
     "name": "stdout",
     "output_type": "stream",
     "text": [
      "Finding\n",
      "Finding\n",
      "9 found in index no 2\n"
     ]
    }
   ],
   "source": [
    "nums=(1, 4, 9, 16, 64, 36, 49, 4, 64,100)\n",
    "\n",
    "a = 9\n",
    "\n",
    "i = 0\n",
    "while i < len(nums):\n",
    "    if (nums[i] == a):\n",
    "      print(f\"{a} found in index no {i}\")\n",
    "      break\n",
    "    else:\n",
    "      print(\"Finding\")\n",
    "    i+=1\n",
    "\n"
   ]
  },
  {
   "cell_type": "markdown",
   "metadata": {},
   "source": [
    "The Break Statement  "
   ]
  },
  {
   "cell_type": "markdown",
   "metadata": {},
   "source": [
    "With the break statement we can stop the loop even if the while condition is true:"
   ]
  },
  {
   "cell_type": "code",
   "execution_count": null,
   "metadata": {},
   "outputs": [],
   "source": [
    "# Exit the loop when i is 3:\n",
    "i = 1\n",
    "while i <= 5:\n",
    "  print(f\"{i} \")\n",
    "  if i==3:\n",
    "    break\n",
    "  i+=1"
   ]
  },
  {
   "cell_type": "markdown",
   "metadata": {},
   "source": [
    "The continue Statement"
   ]
  },
  {
   "cell_type": "markdown",
   "metadata": {},
   "source": [
    "With the continue statement we can stop the current iteration, and continue with the next:"
   ]
  },
  {
   "cell_type": "code",
   "execution_count": null,
   "metadata": {},
   "outputs": [],
   "source": [
    "# Continue to the next iteration if i is 3:\n",
    "i = 0\n",
    "while i < 5:\n",
    "    i+=1\n",
    "    if i == 2:\n",
    "      continue\n",
    "    print(i)"
   ]
  },
  {
   "cell_type": "markdown",
   "metadata": {},
   "source": [
    "All  even numbers between 1 and 20"
   ]
  },
  {
   "cell_type": "code",
   "execution_count": null,
   "metadata": {},
   "outputs": [],
   "source": [
    "# print even number\n",
    "num = 1\n",
    "while  num <= 20 :\n",
    "    if num % 2 ==0:\n",
    "      print(num, \"is even\", end=\"\\n\")\n",
    "    num += 1"
   ]
  },
  {
   "cell_type": "markdown",
   "metadata": {},
   "source": [
    "All reverse even numbers between 20 and 1"
   ]
  },
  {
   "cell_type": "code",
   "execution_count": null,
   "metadata": {},
   "outputs": [],
   "source": [
    "# Revers Even\n",
    "# num = 20\n",
    "# while num >= 1:\n",
    "#     if num % 2 == 0:\n",
    "#         print(f\"{num}\")\n",
    "#     num -= 1"
   ]
  },
  {
   "cell_type": "markdown",
   "metadata": {},
   "source": [
    "\n",
    "\n",
    "All Odd numbers between 20 and 1"
   ]
  },
  {
   "cell_type": "code",
   "execution_count": null,
   "metadata": {},
   "outputs": [],
   "source": [
    "# print odd number\n",
    "num = 1\n",
    "while num <= 20:\n",
    "  if num % 2 !=0:\n",
    "    print(num,\"is Odd\", end=\"\\n\")\n",
    "  num += 1"
   ]
  },
  {
   "cell_type": "markdown",
   "metadata": {},
   "source": [
    "All reverse Odd numbers between 20 and 1"
   ]
  },
  {
   "cell_type": "code",
   "execution_count": null,
   "metadata": {},
   "outputs": [
    {
     "name": "stdout",
     "output_type": "stream",
     "text": [
      "Even Number  19 Even Number  17 Even Number  15 Even Number  13 Even Number  11 Even Number  9 Even Number  7 Even Number  5 Even Number  3 Even Number  1 "
     ]
    }
   ],
   "source": [
    "num = 20\n",
    "while num >= 1 :\n",
    "  if num % 2 != 0:\n",
    "    print(\"Even Number \", num , end = \" \")\n",
    "  num -= 1"
   ]
  },
  {
   "cell_type": "markdown",
   "metadata": {},
   "source": [
    "Here are some short and simple questions to practice Python while loops:"
   ]
  },
  {
   "cell_type": "markdown",
   "metadata": {},
   "source": [
    "1. Countdown Timer:\n",
    "Write a program that counts down from 10 to 1 and prints each number."
   ]
  },
  {
   "cell_type": "code",
   "execution_count": null,
   "metadata": {},
   "outputs": [
    {
     "name": "stdout",
     "output_type": "stream",
     "text": [
      "Counts 10\n",
      "Counts 9\n",
      "Counts 8\n",
      "Counts 7\n",
      "Counts 6\n",
      "Counts 5\n",
      "Counts 4\n",
      "Counts 3\n",
      "Counts 2\n",
      "Counts 1\n"
     ]
    }
   ],
   "source": [
    "# Countdown\n",
    "# Write a program that counts down from 10 to 1 and prints each number.\n",
    "count = 10\n",
    "while count >=1:\n",
    "  print(\"Counts\", count)\n",
    "  count-=1"
   ]
  },
  {
   "cell_type": "markdown",
   "metadata": {},
   "source": [
    "Sum of Numbers:"
   ]
  },
  {
   "cell_type": "code",
   "execution_count": null,
   "metadata": {},
   "outputs": [
    {
     "name": "stdout",
     "output_type": "stream",
     "text": [
      "1 2 3 4 5 6 7 8 9 10 11 12 13 14 15 16 17 18 19 20 21 22 23 24 25 26 27 28 29 30 31 32 33 34 35 36 37 38 39 40 41 42 43 44 45 46 47 48 49 50 "
     ]
    }
   ],
   "source": [
    "# Sum of Numbers:\n",
    "# Use a while loop to find the sum of numbers from 1 to 50.\n",
    "num = 1\n",
    "while num <= 50:\n",
    "  print(num, end=\" \")\n",
    "  print()\n",
    "  num+=1"
   ]
  },
  {
   "cell_type": "markdown",
   "metadata": {},
   "source": [
    "Guess the Number Game:"
   ]
  },
  {
   "cell_type": "code",
   "execution_count": null,
   "metadata": {},
   "outputs": [],
   "source": [
    "# Guess the Number Game:\n",
    "# Write a program where the user has to guess a predefined number (e.g., 7). Keep asking for guesses until they get it right.\n",
    "num = 7\n",
    "while True:\n",
    "    user = int(input(\"Please Guess Number \"))\n",
    "    if user == num:\n",
    "        print(\"Congratulation You Guess Right Number\", num)\n",
    "        user+=1\n",
    "        break\n",
    "    else:\n",
    "        print(\"Sorry, You Guess Wrong\")\n"
   ]
  },
  {
   "cell_type": "markdown",
   "metadata": {},
   "source": [
    "Reverse a Number:\n",
    "Use a while loop to reverse a given integer (e.g., if input is 123, output should be 321)."
   ]
  },
  {
   "cell_type": "code",
   "execution_count": null,
   "metadata": {},
   "outputs": [
    {
     "name": "stdout",
     "output_type": "stream",
     "text": [
      "Enter an integer: 234\n",
      "Reversed number: 432\n"
     ]
    }
   ],
   "source": [
    "# Reverse a Number\n",
    "\n",
    "# Input: Get the number from the user\n",
    "number = int(input(\"Enter an integer: \"))\n",
    "\n",
    "# Initialize variables\n",
    "reversed_number = 0\n",
    "\n",
    "# Reverse the number using a while loop\n",
    "while number != 0:\n",
    "    digit = number % 10  # Get the last digit         8\n",
    "    reversed_number = reversed_number  * 10+ digit  # Append the digit to the reversed number\n",
    "    number = number // 10  # Remove the last digit from the number\n",
    "\n",
    "# Output the reversed number\n",
    "print(\"Reversed number:\", reversed_number)\n"
   ]
  },
  {
   "cell_type": "markdown",
   "metadata": {},
   "source": [
    "Number Validation:\n",
    "Keep asking the user to enter a number between 1 and 10 until they enter a valid number."
   ]
  },
  {
   "cell_type": "code",
   "execution_count": null,
   "metadata": {},
   "outputs": [],
   "source": [
    "# Number Validation\n",
    "while True:\n",
    "\n",
    "    num = int(input(\"Enter Number \"))\n",
    "\n",
    "    if num >= 1 and num <= 10:\n",
    "      print(f\"Congratulation you enter valid {num}\")\n",
    "      break\n",
    "\n",
    "    else:\n",
    "      print(\"Sorry you enter wrong number\")"
   ]
  },
  {
   "cell_type": "markdown",
   "metadata": {},
   "source": [
    "Password Prompt:\n",
    "Create a program that keeps asking the user for a password until they enter the correct one"
   ]
  },
  {
   "cell_type": "code",
   "execution_count": null,
   "metadata": {},
   "outputs": [],
   "source": [
    "# Password Prompt:\n",
    "\n",
    "password = \"Landhi\"\n",
    "while True:\n",
    "  user = str(input(\"Please Enter Your Password \"))\n",
    "  if user == password:\n",
    "    print(\"You Successfully Log in \")\n",
    "    break\n",
    "  else:\n",
    "    print(\"Sorry! You Entered Wrong Password\")\n"
   ]
  },
  {
   "cell_type": "markdown",
   "metadata": {},
   "source": [
    "Log in Prompt:\n",
    "Create a program that keeps asking the user for a username & password until they enter the correct one"
   ]
  },
  {
   "cell_type": "code",
   "execution_count": null,
   "metadata": {},
   "outputs": [],
   "source": [
    "user_id = \"iqra\"\n",
    "password = 122\n",
    "\n",
    "while True:\n",
    "  user_login = str(input(\"Enter Username \"))\n",
    "  user_pass = int(input(\"Enter password \"))\n",
    "  if user_login == user_id and password == user_pass:\n",
    "    print(\"Successfully login\")\n",
    "    break\n",
    "  elif user_login == user_id and password != user_pass:\n",
    "    print(\"your password does not match \")\n",
    "  elif user_login != user_id and password == user_pass:\n",
    "    print(\"your username does not match \")\n",
    "  else:\n",
    "    print(\"your crediantial does not match please tray again\")\n",
    "\n"
   ]
  },
  {
   "cell_type": "markdown",
   "metadata": {},
   "source": [
    "Print Characters:\n",
    "Use a while loop to print each character of a string entered by the user, one by one."
   ]
  },
  {
   "cell_type": "markdown",
   "metadata": {},
   "source": []
  },
  {
   "cell_type": "code",
   "execution_count": null,
   "metadata": {},
   "outputs": [],
   "source": [
    "# print each character\n",
    "user = str(input(\" Enter your name \"))\n",
    "\n",
    "index = 0\n",
    "while index < len(user):\n",
    "  print(user[index])\n",
    "  index += 1"
   ]
  },
  {
   "cell_type": "markdown",
   "metadata": {},
   "source": [
    "Factorial Calculation:\n",
    "Use a while loop to calculate the factorial of a number provided by the user.\n",
    "\n"
   ]
  }
 ],
 "metadata": {
  "language_info": {
   "name": "python"
  }
 },
 "nbformat": 4,
 "nbformat_minor": 2
}
