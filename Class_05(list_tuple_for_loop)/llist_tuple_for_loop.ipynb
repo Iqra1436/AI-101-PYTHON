{
 "cells": [
  {
   "cell_type": "markdown",
   "metadata": {},
   "source": [
    "\n",
    "# List"
   ]
  },
  {
   "cell_type": "markdown",
   "metadata": {},
   "source": [
    "Lists can contain millions of items, so Python provides an\n",
    "efficient way to loop through all the items in a list. When\n",
    "you set up a loop, Python pulls each item from the list one\n",
    "at a time and assigns it to a temporary variable, which\n",
    "you provide a name for. This name should be the singular\n",
    "version of the list name.\n",
    "The indented block of code makes up the body of the\n",
    "loop, where you can work with each individual item. Any\n",
    "lines that are not indented run after the loop is completed"
   ]
  },
  {
   "cell_type": "markdown",
   "metadata": {},
   "source": [
    "\n",
    "\n",
    "    iteration operation with loop\n",
    "    apply any operation on element\n",
    "\n"
   ]
  },
  {
   "cell_type": "code",
   "execution_count": 135,
   "metadata": {},
   "outputs": [
    {
     "name": "stdout",
     "output_type": "stream",
     "text": [
      "salma\n",
      "Asma\n",
      "Najma\n",
      "kosar\n",
      "kishwar\n"
     ]
    }
   ],
   "source": [
    "a : list[str] = [\"salma\",\"Asma\",\"Najma\",\"kosar\",\"kishwar\"]\n",
    "for i in a:\n",
    "  print(i)"
   ]
  },
  {
   "cell_type": "markdown",
   "metadata": {},
   "source": [
    "```Printing a message for each item, and a separate\n",
    "message afterwards"
   ]
  },
  {
   "cell_type": "code",
   "execution_count": 136,
   "metadata": {},
   "outputs": [
    {
     "name": "stdout",
     "output_type": "stream",
     "text": [
      "\n",
      "Welcome, salma \n",
      "We're so glad you joined! \n",
      "\n",
      "Welcome, Asma \n",
      "We're so glad you joined! \n",
      "\n",
      "Welcome, Najma \n",
      "We're so glad you joined! \n",
      "\n",
      "Welcome, kosar \n",
      "We're so glad you joined! \n",
      "\n",
      "Welcome, kishwar \n",
      "We're so glad you joined! \n",
      "\n",
      "Welcome, we're glad to see you all!\n"
     ]
    }
   ],
   "source": [
    "for i in a:\n",
    "  print(f\"\\nWelcome, {i} \\nWe're so glad you joined! \")\n",
    "print(\"\\nWelcome, we're glad to see you all!\")"
   ]
  },
  {
   "cell_type": "markdown",
   "metadata": {},
   "source": [
    "# `Numbers with loop`\n",
    "`range(start,end,step)`"
   ]
  },
  {
   "cell_type": "markdown",
   "metadata": {},
   "source": [
    "You can use the range() function to work with a set of\n",
    "numbers efficiently. The range() function starts at 0 by\n",
    "default, and stops one number below the number passed to\n",
    "it. You can use the list() function to efficiently generate a\n",
    "large list of numbers."
   ]
  },
  {
   "cell_type": "markdown",
   "metadata": {},
   "source": [
    "` Printing the numbers 0 to 100`"
   ]
  },
  {
   "cell_type": "code",
   "execution_count": 137,
   "metadata": {},
   "outputs": [
    {
     "name": "stdout",
     "output_type": "stream",
     "text": [
      "0 1 2 3 4 5 6 7 8 9 10 11 12 13 14 15 16 17 18 19 20 21 22 23 24 25 26 27 28 29 30 31 32 33 34 35 36 37 38 39 40 41 42 43 44 45 46 47 48 49 50 51 52 53 54 55 56 57 58 59 60 61 62 63 64 65 66 67 68 69 70 71 72 73 74 75 76 77 78 79 80 81 82 83 84 85 86 87 88 89 90 91 92 93 94 95 96 97 98 99 "
     ]
    }
   ],
   "source": [
    "for i in range(100):\n",
    "  print(i, end=\" \")"
   ]
  },
  {
   "cell_type": "markdown",
   "metadata": {},
   "source": [
    "` Printing the numbers 1 to 10`"
   ]
  },
  {
   "cell_type": "code",
   "execution_count": 138,
   "metadata": {},
   "outputs": [
    {
     "name": "stdout",
     "output_type": "stream",
     "text": [
      "1 2 3 4 5 6 7 8 9 10 "
     ]
    }
   ],
   "source": [
    "for i in range(1,11):\n",
    "  print(i, end=\" \")"
   ]
  },
  {
   "cell_type": "markdown",
   "metadata": {},
   "source": [
    "`Making a list of numbers from 1 to a 121`"
   ]
  },
  {
   "cell_type": "code",
   "execution_count": 139,
   "metadata": {},
   "outputs": [
    {
     "name": "stdout",
     "output_type": "stream",
     "text": [
      "[1, 2, 3, 4, 5, 6, 7, 8, 9, 10, 11, 12, 13, 14, 15, 16, 17, 18, 19, 20]\n"
     ]
    }
   ],
   "source": [
    "num = list(range(1,21))\n",
    "print(num) "
   ]
  },
  {
   "cell_type": "code",
   "execution_count": 140,
   "metadata": {},
   "outputs": [
    {
     "name": "stdout",
     "output_type": "stream",
     "text": [
      "[1, 2, 3, 4, 5, 6, 7, 8, 9, 10]\n"
     ]
    }
   ],
   "source": [
    "a = list(range(1,11))\n",
    "print(a)\n"
   ]
  },
  {
   "cell_type": "code",
   "execution_count": 184,
   "metadata": {},
   "outputs": [
    {
     "data": {
      "text/plain": [
       "[3, 6, 9, 12, 15, 18, 21, 24, 27, 30]"
      ]
     },
     "execution_count": 184,
     "metadata": {},
     "output_type": "execute_result"
    }
   ],
   "source": [
    "list (range(3,31,3)) # starting=3, ending = n-1 31-1=30, 3"
   ]
  },
  {
   "cell_type": "markdown",
   "metadata": {},
   "source": [
    "# For Loop"
   ]
  },
  {
   "cell_type": "code",
   "execution_count": 141,
   "metadata": {},
   "outputs": [
    {
     "name": "stdout",
     "output_type": "stream",
     "text": [
      "User : Iqra\n",
      "Password : 123\n",
      "User : Fatima\n",
      "Password : 345\n",
      "User : Uzima\n",
      "Password : 567\n"
     ]
    }
   ],
   "source": [
    "data_base : list[tuple[str,int]] = [(\"Iqra\",123),\n",
    "                                    (\"Fatima\",345),\n",
    "                                    (\"Uzima\",567)\n",
    "                                    ]\n",
    "\n",
    "for row in data_base:\n",
    "  user,password = row\n",
    "  print(f\"User : {user}\\nPassword : {password}\")\n"
   ]
  },
  {
   "cell_type": "markdown",
   "metadata": {},
   "source": [
    "## Else with For Loop\n",
    "`The else keyword in a for loop specifies a block of code to be executed when the loop is finished.`"
   ]
  },
  {
   "cell_type": "markdown",
   "metadata": {},
   "source": [
    "# `Login Setup`"
   ]
  },
  {
   "cell_type": "code",
   "execution_count": 189,
   "metadata": {},
   "outputs": [
    {
     "name": "stdout",
     "output_type": "stream",
     "text": [
      "Welcome Iqra Jahangir ! \n",
      "your are Successfuly Login\n"
     ]
    }
   ],
   "source": [
    "data_base : list[tuple[str,str]] = [(\"Iqra Jahangir\",\"123\"),\n",
    "                                    (\"Fatima Jahangir\",\"345\"),\n",
    "                                    (\"Uzma Jahangir\",\"567\")\n",
    "                                    ]\n",
    "input_user : str = input(\"Enter Your Name : \")\n",
    "input_password : str = input(\"Enter Your Password : \")\n",
    "\n",
    "for row in data_base:\n",
    "      user,password = row\n",
    "      if input_user == user and input_password == password:\n",
    "            print(f\"Welcome {user} ! \\nyour are Successfuly Login\")\n",
    "            break\n",
    "      \n",
    "else: # this else is for the for loop\n",
    "      print(\"Not found\")"
   ]
  },
  {
   "cell_type": "markdown",
   "metadata": {},
   "source": [
    "#  For Loop with if_else condition"
   ]
  },
  {
   "cell_type": "code",
   "execution_count": 190,
   "metadata": {},
   "outputs": [
    {
     "name": "stdout",
     "output_type": "stream",
     "text": [
      "Invalid Username! please enter correct Username\n"
     ]
    }
   ],
   "source": [
    "data_base : list[tuple[str,str]] = [(\"Iqra\",\"123\"),\n",
    "                                    (\"Fatima\",\"345\"),\n",
    "                                    (\"Uzima\",\"567\")\n",
    "                                    ]\n",
    "input_user : str = input(\"Enter Your Name : \")\n",
    "input_password : str = input(\"Enter Your Password : \")\n",
    "\n",
    "for row in data_base:\n",
    "      user,password = row\n",
    "      if input_user == user and input_password == password:\n",
    "            print(f\" Welcome {user}\")\n",
    "            break\n",
    "      elif input_user == user and input_password != password:\n",
    "            print(\"Invalid Pasword! please enter correct password\")\n",
    "            break\n",
    "      elif input_user != user and input_password == password:\n",
    "            print(\"Invalid Username! please enter correct Username\")\n",
    "            break\n",
    "      \n",
    "else: # this else is for the for loop\n",
    "      print(\"Not found or Invalid user name\")\n",
    "    "
   ]
  },
  {
   "cell_type": "code",
   "execution_count": null,
   "metadata": {},
   "outputs": [
    {
     "name": "stdout",
     "output_type": "stream",
     "text": [
      "Welcome Iqra to the party!\n",
      "Welcome Fatima to the party!\n",
      "Welcome Uzma to the party!\n",
      "\n",
      "Welcome to the party! Uzma \n"
     ]
    }
   ],
   "source": [
    "Students : list[str] = [\"Iqra\",\"Fatima\",\"Uzma\"]\n",
    "\n",
    "for student in Students:\n",
    "  print(f\"Welcome {student.title()} to the party!\")\n",
    " \n",
    "print(f\"\\nWelcome to the party! {student.title()} \") \n",
    "# this print is not in the loop so it will print only the last student name"
   ]
  },
  {
   "cell_type": "markdown",
   "metadata": {},
   "source": [
    "# Loop with list slicing"
   ]
  },
  {
   "cell_type": "markdown",
   "metadata": {},
   "source": [
    "# `Positive Indexing`\n",
    "\n",
    "```slicing syntax\n",
    "possitive index =  [ start : end : step]\n",
    "```"
   ]
  },
  {
   "cell_type": "markdown",
   "metadata": {},
   "source": [
    "`Start from index 4 to end`"
   ]
  },
  {
   "cell_type": "code",
   "execution_count": null,
   "metadata": {},
   "outputs": [
    {
     "name": "stdout",
     "output_type": "stream",
     "text": [
      "Welcome Kosar to the party!\n",
      "Welcome Najma to the party!\n",
      "Welcome Asma to the party!\n",
      "Welcome Salma to the party!\n"
     ]
    }
   ],
   "source": [
    "# >                       0       1       2       3       4       5       6       7\n",
    "Students : list[str] = [\"Iqra\",\"Fatima\",\"Uzma\",\"Kishwar\",\"Kosar\",\"Najma\",\"Asma\",\"Salma\"]\n",
    "\n",
    "for student in Students[4:]:   # start from index 4 to end\n",
    "  print(f\"Welcome {student.title()} to the party!\")"
   ]
  },
  {
   "cell_type": "markdown",
   "metadata": {},
   "source": [
    "`start from 1 and end at 5`"
   ]
  },
  {
   "cell_type": "code",
   "execution_count": null,
   "metadata": {},
   "outputs": [],
   "source": [
    "# >                       0       1       2       3        4       5       6       7\n",
    "Students : list[str] = [\"Iqra\",\"Fatima\",\"Uzma\",\"Kishwar\",\"Kosar\",\"Najma\",\"Asma\",\"Salma\"]\n",
    "# <                      -8      -7      -6      -5       -4      -3      -2      -1\n",
    "\n",
    "# >                       \n",
    "for student in Students[1:5]:   # start from 1 and end at 5\n",
    "  print(f\"{student.title()}\")"
   ]
  },
  {
   "cell_type": "markdown",
   "metadata": {},
   "source": [
    "` start from 1 and end at 3`"
   ]
  },
  {
   "cell_type": "code",
   "execution_count": null,
   "metadata": {},
   "outputs": [
    {
     "name": "stdout",
     "output_type": "stream",
     "text": [
      "Fatima\n",
      "Uzma\n"
     ]
    }
   ],
   "source": [
    "# >                       0       1       2       3        4       5       6       7\n",
    "Students : list[str] = [\"Iqra\",\"Fatima\",\"Uzma\",\"Kishwar\",\"Kosar\",\"Najma\",\"Asma\",\"Salma\"]\n",
    "# <                      -8      -7      -6      -5       -4      -3      -2      -1\n",
    "\n",
    "for student in Students[1:3]:   # start from 1 and end at 3 \n",
    "  print(f\"{student.title()}\")"
   ]
  },
  {
   "cell_type": "markdown",
   "metadata": {},
   "source": [
    "# `Negative Indexing`"
   ]
  },
  {
   "cell_type": "markdown",
   "metadata": {},
   "source": [
    "```Syntax\n",
    "Negative index = [ start : end : step]  n-1\n",
    "```"
   ]
  },
  {
   "cell_type": "markdown",
   "metadata": {},
   "source": [
    "`Start from 0 and remove last element`"
   ]
  },
  {
   "cell_type": "code",
   "execution_count": 144,
   "metadata": {},
   "outputs": [
    {
     "name": "stdout",
     "output_type": "stream",
     "text": [
      "Iqra\n",
      "Uzma\n",
      "Kosar\n",
      "Asma\n"
     ]
    }
   ],
   "source": [
    "# >                       0       1       2       3        4       5       6       7\n",
    "Students : list[str] = [\"Iqra\",\"Fatima\",\"Uzma\",\"Kishwar\",\"Kosar\",\"Najma\",\"Asma\",\"Salma\"]\n",
    "# <                      -8      -7      -6      -5       -4      -3      -2      -1\n",
    "\n",
    "for student in Students[:-1]:   # Start from 0 and remove last element\n",
    "  print(f\"{student.title()}\")"
   ]
  },
  {
   "cell_type": "markdown",
   "metadata": {},
   "source": [
    "```start with 0 and remove last two elements```"
   ]
  },
  {
   "cell_type": "code",
   "execution_count": null,
   "metadata": {},
   "outputs": [
    {
     "name": "stdout",
     "output_type": "stream",
     "text": [
      "Iqra\n",
      "Fatima\n",
      "Uzma\n",
      "Kishwar\n",
      "Kosar\n",
      "Najma\n"
     ]
    }
   ],
   "source": [
    "# >                       0       1       2       3        4       5       6       7\n",
    "Students : list[str] = [\"Iqra\",\"Fatima\",\"Uzma\",\"Kishwar\",\"Kosar\",\"Najma\",\"Asma\",\"Salma\"]\n",
    "# <                      -8      -7      -6      -5       -4      -3      -2      -1\n",
    "\n",
    "for student in Students[:-2]:   # start with 0 and remove last two elements\n",
    "  print(f\"{student.title()}\")"
   ]
  },
  {
   "cell_type": "markdown",
   "metadata": {},
   "source": [
    "```start from 0 and remove last 4 element```"
   ]
  },
  {
   "cell_type": "code",
   "execution_count": null,
   "metadata": {},
   "outputs": [
    {
     "name": "stdout",
     "output_type": "stream",
     "text": [
      "Iqra\n",
      "Fatima\n",
      "Uzma\n",
      "Kishwar\n"
     ]
    }
   ],
   "source": [
    "# >                       0       1       2       3        4       5       6       7\n",
    "Students : list[str] = [\"Iqra\",\"Fatima\",\"Uzma\",\"Kishwar\",\"Kosar\",\"Najma\",\"Asma\",\"Salma\"]\n",
    "# <                      -8      -7      -6      -5       -4      -3      -2      -1\n",
    "\n",
    "for student in Students[:-4]:   # start from 0 and remove last 4 element\n",
    "  print(f\"{student.title()}\")"
   ]
  },
  {
   "cell_type": "markdown",
   "metadata": {},
   "source": [
    "```start from 2 and remove last 2 element```"
   ]
  },
  {
   "cell_type": "code",
   "execution_count": null,
   "metadata": {},
   "outputs": [
    {
     "name": "stdout",
     "output_type": "stream",
     "text": [
      "Uzma\n",
      "Kishwar\n",
      "Kosar\n",
      "Najma\n"
     ]
    }
   ],
   "source": [
    "# >                       0       1       2       3        4       5       6       7\n",
    "Students : list[str] = [\"Iqra\",\"Fatima\",\"Uzma\",\"Kishwar\",\"Kosar\",\"Najma\",\"Asma\",\"Salma\"]\n",
    "# <                      -8      -7      -6      -5       -4      -3      -2      -1\n",
    "\n",
    "for student in Students[2:-2]:   # start from 2 and remove last 2 element\n",
    "  print(f\"{student.title()}\")"
   ]
  },
  {
   "cell_type": "markdown",
   "metadata": {},
   "source": [
    "`Start from 1 and remove last 5 elements`"
   ]
  },
  {
   "cell_type": "code",
   "execution_count": 145,
   "metadata": {},
   "outputs": [
    {
     "name": "stdout",
     "output_type": "stream",
     "text": [
      "Fatima\n",
      "Uzma\n"
     ]
    }
   ],
   "source": [
    "# >                       0       1       2       3        4       5       6       7\n",
    "Students : list[str] = [\"Iqra\",\"Fatima\",\"Uzma\",\"Kishwar\",\"Kosar\",\"Najma\",\"Asma\",\"Salma\"]\n",
    "# <                      -8      -7      -6      -5       -4      -3      -2      -1\n",
    "\n",
    "for student in Students[1:-5]:   # start from 1 and remove last 5 elements\n",
    "  print(f\"{student.title()}\")"
   ]
  },
  {
   "cell_type": "markdown",
   "metadata": {},
   "source": [
    "`start from 0 and remove last element and step 3`"
   ]
  },
  {
   "cell_type": "code",
   "execution_count": 153,
   "metadata": {},
   "outputs": [
    {
     "name": "stdout",
     "output_type": "stream",
     "text": [
      "Iqra\n",
      "Kishwar\n",
      "Asma\n"
     ]
    }
   ],
   "source": [
    "# >                       0       1       2       3        4       5       6       7\n",
    "Students : list[str] = [\"Iqra\",\"Fatima\",\"Uzma\",\"Kishwar\",\"Kosar\",\"Najma\",\"Asma\",\"Salma\"]\n",
    "# <                      -8      -7      -6      -5       -4      -3      -2      -1\n",
    "\n",
    "# >             [start: end: step]\n",
    "for student in Students[ :-1 :3]:   # start from 0 and remove last element and step 3\n",
    "  print(f\"{student.title()}\")"
   ]
  },
  {
   "cell_type": "markdown",
   "metadata": {},
   "source": [
    "` start from 2 and remove last element and step 3`"
   ]
  },
  {
   "cell_type": "code",
   "execution_count": 156,
   "metadata": {},
   "outputs": [
    {
     "name": "stdout",
     "output_type": "stream",
     "text": [
      "Uzma\n",
      "Najma\n"
     ]
    }
   ],
   "source": [
    "# >                       0       1       2       3        4       5       6       7\n",
    "Students : list[str] = [\"Iqra\",\"Fatima\",\"Uzma\",\"Kishwar\",\"Kosar\",\"Najma\",\"Asma\",\"Salma\"]\n",
    "# <                      -8      -7      -6      -5       -4      -3      -2      -1\n",
    "\n",
    "# >             [start: end: step]\n",
    "for student in Students[2:-1 :3]:   #  start from 2 and remove last element and step 3\n",
    "  print(f\"{student.title()}\")"
   ]
  },
  {
   "cell_type": "markdown",
   "metadata": {},
   "source": [
    "`start from 0 and remove last element and step 2`"
   ]
  },
  {
   "cell_type": "code",
   "execution_count": 158,
   "metadata": {},
   "outputs": [
    {
     "name": "stdout",
     "output_type": "stream",
     "text": [
      "Iqra\n",
      "Uzma\n",
      "Kosar\n",
      "Asma\n"
     ]
    }
   ],
   "source": [
    "# >                       0       1       2       3        4       5       6       7\n",
    "Students : list[str] = [\"Iqra\",\"Fatima\",\"Uzma\",\"Kishwar\",\"Kosar\",\"Najma\",\"Asma\",\"Salma\"]\n",
    "# <                      -8      -7      -6      -5       -4      -3      -2      -1\n",
    "\n",
    "# >             [start: end: step]\n",
    "for student in Students[ :-1 :2]:   #  start from 0 and remove last element and step 2\n",
    "  print(f\"{student.title()}\")"
   ]
  },
  {
   "cell_type": "markdown",
   "metadata": {},
   "source": [
    "`start from 0 and remove last 2 element and step 2`"
   ]
  },
  {
   "cell_type": "code",
   "execution_count": 162,
   "metadata": {},
   "outputs": [
    {
     "name": "stdout",
     "output_type": "stream",
     "text": [
      "Iqra\n",
      "Uzma\n",
      "Kosar\n"
     ]
    }
   ],
   "source": [
    "# >                       0       1       2       3        4       5       6       7\n",
    "Students : list[str] = [\"Iqra\",\"Fatima\",\"Uzma\",\"Kishwar\",\"Kosar\",\"Najma\",\"Asma\",\"Salma\"]\n",
    "# <                      -8      -7      -6      -5       -4      -3      -2      -1\n",
    "\n",
    "# >             [start: end: step]\n",
    "for student in Students[ :-2 :2]:   #  start from 0 and remove last 2 element and step 2\n",
    "  print(f\"{student.title()}\")\n",
    "\n",
    "  "
   ]
  },
  {
   "cell_type": "markdown",
   "metadata": {},
   "source": [
    "# Reverse slicing "
   ]
  },
  {
   "cell_type": "markdown",
   "metadata": {},
   "source": [
    "`Reverse the list`"
   ]
  },
  {
   "cell_type": "code",
   "execution_count": 164,
   "metadata": {},
   "outputs": [
    {
     "name": "stdout",
     "output_type": "stream",
     "text": [
      "Salma\n",
      "Asma\n",
      "Najma\n",
      "Kosar\n",
      "Kishwar\n",
      "Uzma\n",
      "Fatima\n",
      "Iqra\n"
     ]
    }
   ],
   "source": [
    "# >                       0       1       2       3        4       5       6       7\n",
    "Students : list[str] = [\"Iqra\",\"Fatima\",\"Uzma\",\"Kishwar\",\"Kosar\",\"Najma\",\"Asma\",\"Salma\"]\n",
    "# <                      -8      -7      -6      -5       -4      -3      -2      -1\n",
    "\n",
    "\n",
    "for student in Students[ : : -1 ]:   # reverse the list\n",
    "  print(f\"{student.title()}\")"
   ]
  },
  {
   "cell_type": "markdown",
   "metadata": {},
   "source": [
    "` Reverse the list with step 4`"
   ]
  },
  {
   "cell_type": "code",
   "execution_count": 167,
   "metadata": {},
   "outputs": [
    {
     "name": "stdout",
     "output_type": "stream",
     "text": [
      "Salma\n",
      "Kishwar\n"
     ]
    }
   ],
   "source": [
    "# >                       0       1       2       3        4       5       6       7\n",
    "Students : list[str] = [\"Iqra\",\"Fatima\",\"Uzma\",\"Kishwar\",\"Kosar\",\"Najma\",\"Asma\",\"Salma\"]\n",
    "# <                      -8      -7      -6      -5       -4      -3      -2      -1\n",
    "\n",
    "\n",
    "for student in Students[ : : -4 ]:   # reverse the list with step 4\n",
    "  print(f\"{student.title()}\")"
   ]
  },
  {
   "cell_type": "markdown",
   "metadata": {},
   "source": [
    "`Reverse the list with step 2`"
   ]
  },
  {
   "cell_type": "code",
   "execution_count": 169,
   "metadata": {},
   "outputs": [
    {
     "name": "stdout",
     "output_type": "stream",
     "text": [
      "Salma\n",
      "Najma\n",
      "Kishwar\n",
      "Fatima\n"
     ]
    }
   ],
   "source": [
    "# >                       0       1       2       3        4       5       6       7\n",
    "Students : list[str] = [\"Iqra\",\"Fatima\",\"Uzma\",\"Kishwar\",\"Kosar\",\"Najma\",\"Asma\",\"Salma\"]\n",
    "# <                      -8      -7      -6      -5       -4      -3      -2      -1\n",
    "\n",
    "for student in Students[ : : -2 ]:   # reverse the list with step 2\n",
    "  print(f\"{student.title()}\")"
   ]
  },
  {
   "cell_type": "markdown",
   "metadata": {},
   "source": [
    "`Reverse the list with step 3`"
   ]
  },
  {
   "cell_type": "code",
   "execution_count": 168,
   "metadata": {},
   "outputs": [
    {
     "name": "stdout",
     "output_type": "stream",
     "text": [
      "Salma\n",
      "Kosar\n",
      "Fatima\n"
     ]
    }
   ],
   "source": [
    "# >                       0       1       2       3        4       5       6       7\n",
    "Students : list[str] = [\"Iqra\",\"Fatima\",\"Uzma\",\"Kishwar\",\"Kosar\",\"Najma\",\"Asma\",\"Salma\"]\n",
    "# <                      -8      -7      -6      -5       -4      -3      -2      -1\n",
    "\n",
    "for student in Students[ : : -3 ]:   # reverse the list with step 3\n",
    "  print(f\"{student.title()}\")\n",
    "  "
   ]
  },
  {
   "cell_type": "markdown",
   "metadata": {},
   "source": [
    "`Reverse the list with step 4`"
   ]
  },
  {
   "cell_type": "code",
   "execution_count": 170,
   "metadata": {},
   "outputs": [
    {
     "name": "stdout",
     "output_type": "stream",
     "text": [
      "Salma\n",
      "Kishwar\n"
     ]
    }
   ],
   "source": [
    "# >                       0       1       2       3        4       5       6       7\n",
    "Students : list[str] = [\"Iqra\",\"Fatima\",\"Uzma\",\"Kishwar\",\"Kosar\",\"Najma\",\"Asma\",\"Salma\"]\n",
    "# <                      -8      -7      -6      -5       -4      -3      -2      -1\n",
    "\n",
    "for student in Students[ : : -4]:   # Reverse the list with step 4\n",
    "  print(f\"{student.title()}\")"
   ]
  },
  {
   "cell_type": "markdown",
   "metadata": {},
   "source": [
    "`Reverse the list with step 5`"
   ]
  },
  {
   "cell_type": "code",
   "execution_count": 171,
   "metadata": {},
   "outputs": [
    {
     "name": "stdout",
     "output_type": "stream",
     "text": [
      "Salma\n",
      "Uzma\n"
     ]
    }
   ],
   "source": [
    "# >                       0       1       2       3        4       5       6       7\n",
    "Students : list[str] = [\"Iqra\",\"Fatima\",\"Uzma\",\"Kishwar\",\"Kosar\",\"Najma\",\"Asma\",\"Salma\"]\n",
    "# <                      -8      -7      -6      -5       -4      -3      -2      -1\n",
    "\n",
    "for student in Students[ : : -5]:   # Reverse the list with step 5\n",
    "  print(f\"{student.title()}\")"
   ]
  },
  {
   "cell_type": "code",
   "execution_count": null,
   "metadata": {},
   "outputs": [],
   "source": [
    "# >                       0       1       2       3        4       5       6       7\n",
    "Students : list[str] = [\"Iqra\",\"Fatima\",\"Uzma\",\"Kishwar\",\"Kosar\",\"Najma\",\"Asma\",\"Salma\"]\n",
    "# <                      -8      -7      -6      -5       -4      -3      -2      -1\n",
    "\n",
    "for student in Students[ : : -2]:   # Reverse the list with step 4\n",
    "  print(f\"{student.title()}\")\n",
    "  # salma , najma , kishwar ,\n"
   ]
  },
  {
   "cell_type": "markdown",
   "metadata": {},
   "source": [
    "``` Empty list update through for loop```"
   ]
  },
  {
   "cell_type": "code",
   "execution_count": 9,
   "metadata": {},
   "outputs": [
    {
     "name": "stdout",
     "output_type": "stream",
     "text": [
      "Shaikh Abdul Jabbar\n",
      "Shaikh Muhammad Jaffar\n",
      "Shaikh Muhammad Javed\n",
      "Shaikh Abdul Sattar\n",
      "Shaikh Muhammad Zulfi\n"
     ]
    }
   ],
   "source": [
    "brothers : list[str] = []\n",
    "\n",
    "for bro in range(1,6):\n",
    "  bro = input(f\"Enter the name of Brother {bro} : \")\n",
    "  brothers.append(bro)\n",
    "  print(f\"{bro}\")\n",
    "  "
   ]
  },
  {
   "cell_type": "markdown",
   "metadata": {},
   "source": [
    "# enumerate"
   ]
  },
  {
   "cell_type": "code",
   "execution_count": 182,
   "metadata": {},
   "outputs": [
    {
     "data": {
      "text/plain": [
       "[(0, 'Jabbar'), (1, 'Jaffar'), (2, 'Javed'), (3, 'Sattar'), (4, 'Sami')]"
      ]
     },
     "execution_count": 182,
     "metadata": {},
     "output_type": "execute_result"
    }
   ],
   "source": [
    "brothers = ['Jabbar', 'Jaffar', 'Javed', 'Sattar', 'Sami']\n",
    "\n",
    "list(enumerate(brothers))"
   ]
  },
  {
   "cell_type": "markdown",
   "metadata": {},
   "source": [
    "`enumerate with for loop`"
   ]
  },
  {
   "cell_type": "code",
   "execution_count": 178,
   "metadata": {},
   "outputs": [
    {
     "name": "stdout",
     "output_type": "stream",
     "text": [
      "(0, 'Jabbar')\n",
      "(1, 'Jaffar')\n",
      "(2, 'Javed')\n",
      "(3, 'Sattar')\n",
      "(4, 'Sami')\n"
     ]
    }
   ],
   "source": [
    "brothers = ['Jabbar', 'Jaffar', 'Javed', 'Sattar', 'Sami']\n",
    "\n",
    "for bro in enumerate(brothers):\n",
    "  print(bro)"
   ]
  },
  {
   "cell_type": "markdown",
   "metadata": {},
   "source": [
    "`Display Table with for loop`"
   ]
  },
  {
   "cell_type": "code",
   "execution_count": 16,
   "metadata": {},
   "outputs": [
    {
     "name": "stdout",
     "output_type": "stream",
     "text": [
      "3 X 1 = 3\n",
      "3 X 2 = 6\n",
      "3 X 3 = 9\n",
      "3 X 4 = 12\n",
      "3 X 5 = 15\n",
      "3 X 6 = 18\n",
      "3 X 7 = 21\n",
      "3 X 8 = 24\n",
      "3 X 9 = 27\n",
      "3 X 10 = 30\n"
     ]
    }
   ],
   "source": [
    "table : str = input(\"Enter Number for table printing : \")\n",
    "for i in range(1,11):\n",
    "  print(f\"{table} X {i} = {int(table) * i}\")"
   ]
  },
  {
   "cell_type": "markdown",
   "metadata": {},
   "source": [
    "`Display Squares with empty list and use ranae function`"
   ]
  },
  {
   "cell_type": "code",
   "execution_count": 25,
   "metadata": {},
   "outputs": [
    {
     "name": "stdout",
     "output_type": "stream",
     "text": [
      "1 4 9 16 25 36 49 64 81 100 "
     ]
    }
   ],
   "source": [
    "squares : list [int] = []\n",
    "for value in range(1,11):\n",
    "  square = value ** 2\n",
    "  squares.append(square)\n",
    "  print(square , end=\" \")"
   ]
  },
  {
   "cell_type": "markdown",
   "metadata": {},
   "source": [
    "`Display numbers squares from 1 to 10 with list`"
   ]
  },
  {
   "cell_type": "code",
   "execution_count": 33,
   "metadata": {},
   "outputs": [
    {
     "name": "stdout",
     "output_type": "stream",
     "text": [
      "1 8 27 64 125 216 343 512 729 1000 "
     ]
    }
   ],
   "source": [
    "num : int = [1,2,3,4,5,6,7,8,9,10]\n",
    "for value in num:\n",
    "  square = value ** 3 \n",
    "  print(square, end=\" \")"
   ]
  },
  {
   "cell_type": "markdown",
   "metadata": {},
   "source": [
    "`Display Squares with range `"
   ]
  },
  {
   "cell_type": "code",
   "execution_count": 36,
   "metadata": {},
   "outputs": [
    {
     "name": "stdout",
     "output_type": "stream",
     "text": [
      "1 8 27 64 125 216 343 512 729 1000 "
     ]
    }
   ],
   "source": [
    "for i in range(1,11):\n",
    "  print(i ** 3, end=\" \")"
   ]
  },
  {
   "cell_type": "markdown",
   "metadata": {},
   "source": [
    "# `List comprehensive`"
   ]
  },
  {
   "cell_type": "markdown",
   "metadata": {},
   "source": [
    "``` \n",
    "Comprehensive Style\n",
    "[loop_body for item in items_list]\n",
    "```"
   ]
  },
  {
   "cell_type": "markdown",
   "metadata": {},
   "source": [
    "`A list comprehension consists of brackets containing an expression followed by a for clause, then zero or more for or if clauses. The result will be a new list resulting from evaluating the expression in the context of the for and if clauses which follow it. For example, this listcomp combines the elements of two lists if they are not equal:`"
   ]
  },
  {
   "cell_type": "markdown",
   "metadata": {},
   "source": [
    "`List comprehensive with for loop`"
   ]
  },
  {
   "cell_type": "markdown",
   "metadata": {},
   "source": [
    "# Exponent (**)\n",
    "  `Example :  2**3 = 2 X 2 X 2 = 8`\n",
    "  "
   ]
  },
  {
   "cell_type": "code",
   "execution_count": null,
   "metadata": {},
   "outputs": [
    {
     "data": {
      "text/plain": [
       "[1, 8, 27, 64, 125, 216, 343, 512, 729, 1000]"
      ]
     },
     "execution_count": 67,
     "metadata": {},
     "output_type": "execute_result"
    }
   ],
   "source": [
    "# Exponent is also caled power operator\n",
    "\n",
    "[i ** 3 for i in range(1,11)] # this is Comprehension style\n"
   ]
  },
  {
   "cell_type": "code",
   "execution_count": 48,
   "metadata": {},
   "outputs": [
    {
     "data": {
      "text/plain": [
       "[(1, 4), (1, 2), (1, 5), (2, 4), (2, 2), (2, 5), (3, 4), (3, 2), (3, 5)]"
      ]
     },
     "execution_count": 48,
     "metadata": {},
     "output_type": "execute_result"
    }
   ],
   "source": [
    "[ (x , y ) for x in [1,2,3] for y in [4,2,5] if x]  "
   ]
  },
  {
   "cell_type": "markdown",
   "metadata": {},
   "source": [
    "`and it’s equivalent to:`"
   ]
  },
  {
   "cell_type": "code",
   "execution_count": null,
   "metadata": {},
   "outputs": [
    {
     "name": "stdout",
     "output_type": "stream",
     "text": [
      "[(1, 4), (1, 2), (1, 5), (2, 4), (2, 5), (3, 4), (3, 2), (3, 5)]\n"
     ]
    },
    {
     "name": "stdout",
     "output_type": "stream",
     "text": [
      "[(1, 4), (1, 2), (1, 5), (2, 4), (2, 5), (3, 4), (3, 2), (3, 5)]\n"
     ]
    }
   ],
   "source": [
    "num = []\n",
    "for x in [1,2,3]:\n",
    "  for y in [4,2,5]:\n",
    "    if x != y:\n",
    "      num.append((x , y))\n",
    "print(num)"
   ]
  },
  {
   "cell_type": "markdown",
   "metadata": {},
   "source": [
    "` Multiplication (*) `"
   ]
  },
  {
   "cell_type": "code",
   "execution_count": null,
   "metadata": {},
   "outputs": [
    {
     "data": {
      "text/plain": [
       "[4, 8, 12, 16]"
      ]
     },
     "execution_count": 51,
     "metadata": {},
     "output_type": "execute_result"
    }
   ],
   "source": [
    "a = [ 2 , 4 , 6 , 8]\n",
    "\n",
    "[ x * 2 for x in a] # List Comprehensive"
   ]
  },
  {
   "cell_type": "markdown",
   "metadata": {},
   "source": [
    "` Exponent ** is also caled power`"
   ]
  },
  {
   "cell_type": "code",
   "execution_count": 52,
   "metadata": {},
   "outputs": [
    {
     "data": {
      "text/plain": [
       "[4, 16, 36, 64]"
      ]
     },
     "execution_count": 52,
     "metadata": {},
     "output_type": "execute_result"
    }
   ],
   "source": [
    "a = [ 2 , 4 , 6 , 8]\n",
    "\n",
    "[ x ** 2 for x in a] # List Comprehensive"
   ]
  },
  {
   "cell_type": "markdown",
   "metadata": {},
   "source": [
    "` \"//\" Floor division also called Times of table`"
   ]
  },
  {
   "cell_type": "code",
   "execution_count": null,
   "metadata": {},
   "outputs": [
    {
     "data": {
      "text/plain": [
       "[6, 13, 20, 26]"
      ]
     },
     "execution_count": 63,
     "metadata": {},
     "output_type": "execute_result"
    }
   ],
   "source": [
    "a = [ 20 , 40 , 60 , 80]\n",
    "\n",
    "[ x // 3 for x in a] # List Comprehensive"
   ]
  },
  {
   "cell_type": "markdown",
   "metadata": {},
   "source": [
    "`Modulus %  Also called Reminder`"
   ]
  },
  {
   "cell_type": "code",
   "execution_count": 65,
   "metadata": {},
   "outputs": [
    {
     "data": {
      "text/plain": [
       "[2, 1, 0, 2]"
      ]
     },
     "execution_count": 65,
     "metadata": {},
     "output_type": "execute_result"
    }
   ],
   "source": [
    "a = [ 20 , 40 , 60 , 80]\n",
    "\n",
    "[ x % 3 for x in a] # List Comprehensive"
   ]
  },
  {
   "cell_type": "markdown",
   "metadata": {},
   "source": [
    "`filter the list to exclude negative numbers`"
   ]
  },
  {
   "cell_type": "code",
   "execution_count": 69,
   "metadata": {},
   "outputs": [
    {
     "data": {
      "text/plain": [
       "[6, 8, 0, 2]"
      ]
     },
     "execution_count": 69,
     "metadata": {},
     "output_type": "execute_result"
    }
   ],
   "source": [
    "a = [ -2 , -4 , 6 , 8 , 0 , 2]\n",
    "\n",
    "[x for x in a if x >= 0 ]"
   ]
  },
  {
   "cell_type": "markdown",
   "metadata": {},
   "source": [
    "` apply a function to all the elements`"
   ]
  },
  {
   "cell_type": "code",
   "execution_count": 72,
   "metadata": {},
   "outputs": [
    {
     "data": {
      "text/plain": [
       "[2, 4, 6, 8, 0, 2]"
      ]
     },
     "execution_count": 72,
     "metadata": {},
     "output_type": "execute_result"
    }
   ],
   "source": [
    "a = [ -2 , -4 , 6 , 8 , 0 , 2]\n",
    "[abs(x) for x in a]"
   ]
  },
  {
   "cell_type": "markdown",
   "metadata": {},
   "source": [
    "`flatten a list using a listcomp with two 'for'`"
   ]
  },
  {
   "cell_type": "code",
   "execution_count": null,
   "metadata": {},
   "outputs": [
    {
     "data": {
      "text/plain": [
       "[2, 4, 5, 7, 8, 9, 10, 12]"
      ]
     },
     "metadata": {},
     "output_type": "display_data"
    }
   ],
   "source": [
    "list = [ [ 2 , 4 ] , [ 5 , 7] , [ 8 , 9 ] , [ 10 , 12 ] ]\n",
    "[b for a in list for b in a] "
   ]
  },
  {
   "cell_type": "markdown",
   "metadata": {},
   "source": [
    "# `Nested List Comprehensions`"
   ]
  },
  {
   "cell_type": "markdown",
   "metadata": {},
   "source": [
    "`The initial expression in a list comprehension can be any arbitrary expression, including another list comprehension.`"
   ]
  },
  {
   "cell_type": "markdown",
   "metadata": {},
   "source": [
    "`Consider the following example of a 3x4 matrix implemented as a list of 3 lists of length 4:`"
   ]
  },
  {
   "cell_type": "code",
   "execution_count": 160,
   "metadata": {},
   "outputs": [
    {
     "data": {
      "text/plain": [
       "[[2, 5, 8], [4, 7, 9], [6, 9, 10], [8, 11, 11]]"
      ]
     },
     "execution_count": 160,
     "metadata": {},
     "output_type": "execute_result"
    }
   ],
   "source": [
    "matrix = [  [ 2 , 4 , 6 , 8 ], \n",
    "            [ 5 , 7 , 9 , 11 ], \n",
    "            [ 8 , 9 , 10 , 11] \n",
    "          ]\n",
    "[[row[i] for row in matrix ] for i in range(4) ]"
   ]
  },
  {
   "cell_type": "markdown",
   "metadata": {},
   "source": [
    "`As we saw in the previous section, the inner list comprehension is evaluated in the context of the for that follows it, so this example is equivalent to:`"
   ]
  },
  {
   "cell_type": "code",
   "execution_count": 162,
   "metadata": {},
   "outputs": [
    {
     "name": "stdout",
     "output_type": "stream",
     "text": [
      "[[2, 5, 8], [4, 7, 9], [6, 9, 10], [8, 11, 11]]\n"
     ]
    }
   ],
   "source": [
    "a = []\n",
    "for i in range(4):\n",
    "  a.append([row[i] for row in matrix])\n",
    "print(a)"
   ]
  },
  {
   "cell_type": "markdown",
   "metadata": {},
   "source": [
    "`In the real world, you should prefer built-in functions to complex flow statements. The zip() function would do a great job for this use case:`"
   ]
  },
  {
   "cell_type": "markdown",
   "metadata": {},
   "source": [
    "# strip()\n",
    "`The strip() method in Pythonis used to remove leading and trailing whitespace (spaces, tabs, newlines) from a string. It does not affect the content of the string in between, only at the edges.`"
   ]
  },
  {
   "cell_type": "markdown",
   "metadata": {},
   "source": [
    "`call a method on each element`"
   ]
  },
  {
   "cell_type": "code",
   "execution_count": 80,
   "metadata": {},
   "outputs": [
    {
     "data": {
      "text/plain": [
       "['apple', 'banana', 'cherry', 'kiwi', 'mango']"
      ]
     },
     "execution_count": 80,
     "metadata": {},
     "output_type": "execute_result"
    }
   ],
   "source": [
    "fruits = [\"  apple  \",\"   banana     \",\" cherry\",\" kiwi  \",\"   mango  \"] # whitespace\n",
    "\n",
    "[fruit.strip() for fruit in fruits] # strip() method removes the whitespace from the string\n"
   ]
  },
  {
   "cell_type": "markdown",
   "metadata": {},
   "source": [
    "# Tuple"
   ]
  },
  {
   "cell_type": "markdown",
   "metadata": {},
   "source": [
    "`A tuple is a collection which is ordered and unchangeable. Tuples are written with round brackets.`"
   ]
  },
  {
   "cell_type": "code",
   "execution_count": 61,
   "metadata": {},
   "outputs": [
    {
     "name": "stdout",
     "output_type": "stream",
     "text": [
      "(1, 2, 3, 4, 5, 6, 7, 8, 9, 10)\n"
     ]
    }
   ],
   "source": [
    "tupple = (1,2,3,4,5,6,7,8,9,10)\n",
    "print(tupple)"
   ]
  },
  {
   "cell_type": "code",
   "execution_count": 57,
   "metadata": {},
   "outputs": [
    {
     "name": "stdout",
     "output_type": "stream",
     "text": [
      "('a', 2, 9.9)\n",
      "<class 'tuple'>\n",
      "['__add__', '__class__', '__class_getitem__', '__contains__', '__delattr__', '__dir__', '__doc__', '__eq__', '__format__', '__ge__', '__getattribute__', '__getitem__', '__getnewargs__', '__getstate__', '__gt__', '__hash__', '__init__', '__init_subclass__', '__iter__', '__le__', '__len__', '__lt__', '__mul__', '__ne__', '__new__', '__reduce__', '__reduce_ex__', '__repr__', '__rmul__', '__setattr__', '__sizeof__', '__str__', '__subclasshook__', 'count', 'index']\n"
     ]
    }
   ],
   "source": [
    "num : tuple[str,int,float] = (\"a\",2,9.9)\n",
    "print(num) # print\n",
    "print(type(num)) # type\n",
    "print(dir(num)) "
   ]
  },
  {
   "cell_type": "markdown",
   "metadata": {},
   "source": [
    "`slicing with tuple`"
   ]
  },
  {
   "cell_type": "code",
   "execution_count": null,
   "metadata": {},
   "outputs": [
    {
     "name": "stdout",
     "output_type": "stream",
     "text": [
      "A\n",
      "('A', 'B', 'C', 'd')\n",
      "('B', 'C')\n",
      "('C', 'd')\n",
      "('A', 'B', 'C')\n"
     ]
    }
   ],
   "source": [
    "names:tuple[str] = ('A',\"B\",'C','d')\n",
    "print(names[0])   # index 0\n",
    "print(names[ :4]) # start from 0 and end at 4\n",
    "print(names[1:3]) # start from 1 and end at 3\n",
    "print(names[2:])  # start from 2 and end at last\n",
    "print(names[ :-1])  # last element"
   ]
  },
  {
   "cell_type": "markdown",
   "metadata": {},
   "source": [
    "`A tuple consists of a number of values separated by commas, for instance:`"
   ]
  },
  {
   "cell_type": "code",
   "execution_count": 19,
   "metadata": {},
   "outputs": [
    {
     "name": "stdout",
     "output_type": "stream",
     "text": [
      "123\n",
      "Fatima\n"
     ]
    }
   ],
   "source": [
    "t = 123,'Fatima','Uzma','Kishwar'\n",
    "print(t[0]) # index 0\n",
    "print(t[1]) # index 1\n"
   ]
  },
  {
   "cell_type": "markdown",
   "metadata": {},
   "source": [
    "`Tuples may be nested:`"
   ]
  },
  {
   "cell_type": "code",
   "execution_count": 22,
   "metadata": {},
   "outputs": [
    {
     "data": {
      "text/plain": [
       "((123, 'Fatima', 'Uzma', 'Kishwar'), (1, 2))"
      ]
     },
     "execution_count": 22,
     "metadata": {},
     "output_type": "execute_result"
    }
   ],
   "source": [
    "t = 123,'Fatima','Uzma','Kishwar'\n",
    "u = t , (1,2)\n",
    "u"
   ]
  },
  {
   "cell_type": "markdown",
   "metadata": {},
   "source": [
    "`Tuples are immutable:`"
   ]
  },
  {
   "cell_type": "code",
   "execution_count": 14,
   "metadata": {},
   "outputs": [
    {
     "ename": "TypeError",
     "evalue": "'tuple' object does not support item assignment",
     "output_type": "error",
     "traceback": [
      "\u001b[1;31m---------------------------------------------------------------------------\u001b[0m",
      "\u001b[1;31mTypeError\u001b[0m                                 Traceback (most recent call last)",
      "Cell \u001b[1;32mIn[14], line 2\u001b[0m\n\u001b[0;32m      1\u001b[0m names:\u001b[38;5;28mtuple\u001b[39m[\u001b[38;5;28mstr\u001b[39m] \u001b[38;5;241m=\u001b[39m (\u001b[38;5;124m'\u001b[39m\u001b[38;5;124mA\u001b[39m\u001b[38;5;124m'\u001b[39m,\u001b[38;5;124m\"\u001b[39m\u001b[38;5;124mB\u001b[39m\u001b[38;5;124m\"\u001b[39m,\u001b[38;5;124m'\u001b[39m\u001b[38;5;124mC\u001b[39m\u001b[38;5;124m'\u001b[39m,\u001b[38;5;124m'\u001b[39m\u001b[38;5;124md\u001b[39m\u001b[38;5;124m'\u001b[39m)\n\u001b[1;32m----> 2\u001b[0m \u001b[43mnames\u001b[49m\u001b[43m[\u001b[49m\u001b[38;5;241;43m0\u001b[39;49m\u001b[43m]\u001b[49m \u001b[38;5;241m=\u001b[39m \u001b[38;5;124m\"\u001b[39m\u001b[38;5;124m Pakistan \u001b[39m\u001b[38;5;124m\"\u001b[39m \u001b[38;5;66;03m# error because tuple is immutable\u001b[39;00m\n",
      "\u001b[1;31mTypeError\u001b[0m: 'tuple' object does not support item assignment"
     ]
    }
   ],
   "source": [
    "names:tuple[str] = ('A',\"B\",'C','d')\n",
    "names[0] = \" Pakistan \" # error because tuple is immutable"
   ]
  },
  {
   "cell_type": "markdown",
   "metadata": {},
   "source": [
    "`but they can contain mutable objects:`"
   ]
  },
  {
   "cell_type": "code",
   "execution_count": 28,
   "metadata": {},
   "outputs": [
    {
     "name": "stdout",
     "output_type": "stream",
     "text": [
      "([10], [20], [30])\n"
     ]
    }
   ],
   "source": [
    "# >  0  1  2\n",
    "v = ([],[],[])   # list inside tuple\n",
    "v[0].append(10)  # append 10 in index 0\n",
    "v[1].append(20)\n",
    "v[2].append(30)\n",
    "print(v)"
   ]
  },
  {
   "cell_type": "code",
   "execution_count": 114,
   "metadata": {},
   "outputs": [
    {
     "name": "stdout",
     "output_type": "stream",
     "text": [
      " Before pop \n",
      " data = ('Iqra', [1, 2, 3], 'Fatima', 123)\n",
      "\n",
      " a = data[1].pop() \n",
      " a = 3 \n",
      " data = ('Iqra', [1, 2], 'Fatima', 123)\n"
     ]
    }
   ],
   "source": [
    "data : tuple[any] = ('Iqra',[1,2,3], 'Fatima', 123)\n",
    "print(f\" Before pop \\n data = {data}\")\n",
    "\n",
    "a = data[1].pop() # Remove last element from index 1\n",
    "print(f\"\\n a = data[1].pop() \\n a = {a} \\n data = {data}\")"
   ]
  },
  {
   "cell_type": "markdown",
   "metadata": {},
   "source": [
    "# `tuple methods`"
   ]
  },
  {
   "cell_type": "markdown",
   "metadata": {},
   "source": [
    "```# Tuple Methods:\n",
    "1. count(): Returns the number of times a specified value occurs in a tuple \n",
    "2. index(): Searches the tuple for a specified value and returns the position of where   it was found\n",
    "```"
   ]
  },
  {
   "cell_type": "code",
   "execution_count": 58,
   "metadata": {},
   "outputs": [
    {
     "name": "stdout",
     "output_type": "stream",
     "text": [
      "['count', 'index']\n"
     ]
    }
   ],
   "source": [
    "print([i for i in dir(num) if \"__\" not in i ]) # methods & attributes"
   ]
  },
  {
   "cell_type": "markdown",
   "metadata": {},
   "source": [
    "```\n",
    "create a list of 2-tuples like (number, square) \n",
    "squares and exponent = **\n",
    "  ```"
   ]
  },
  {
   "cell_type": "code",
   "execution_count": 86,
   "metadata": {},
   "outputs": [
    {
     "data": {
      "text/plain": [
       "[(1, 1),\n",
       " (2, 4),\n",
       " (3, 9),\n",
       " (4, 16),\n",
       " (5, 25),\n",
       " (6, 36),\n",
       " (7, 49),\n",
       " (8, 64),\n",
       " (9, 81),\n",
       " (10, 100)]"
      ]
     },
     "execution_count": 86,
     "metadata": {},
     "output_type": "execute_result"
    }
   ],
   "source": [
    "[(x , x ** 2) for x in range(1,11)]"
   ]
  },
  {
   "cell_type": "markdown",
   "metadata": {},
   "source": [
    "```\n",
    "create a list of 2-tuples like (number, module) \n",
    "module = %\n",
    "  ```"
   ]
  },
  {
   "cell_type": "code",
   "execution_count": 98,
   "metadata": {},
   "outputs": [
    {
     "data": {
      "text/plain": [
       "[(2, 0), (3, 1), (4, 0), (5, 1), (6, 0), (7, 1), (8, 0), (9, 1), (10, 0)]"
      ]
     },
     "execution_count": 98,
     "metadata": {},
     "output_type": "execute_result"
    }
   ],
   "source": [
    "[(x, x % 2) for x in range(2,11)] "
   ]
  },
  {
   "cell_type": "markdown",
   "metadata": {},
   "source": [
    "` the tuple must be parenthesized, otherwise an error is raised`"
   ]
  },
  {
   "cell_type": "code",
   "execution_count": 106,
   "metadata": {},
   "outputs": [
    {
     "ename": "SyntaxError",
     "evalue": "did you forget parentheses around the comprehension target? (703956320.py, line 1)",
     "output_type": "error",
     "traceback": [
      "\u001b[1;36m  Cell \u001b[1;32mIn[106], line 1\u001b[1;36m\u001b[0m\n\u001b[1;33m    [x, x % 2 for x in range(2,11)] # Missing the tuple brackets\u001b[0m\n\u001b[1;37m     ^\u001b[0m\n\u001b[1;31mSyntaxError\u001b[0m\u001b[1;31m:\u001b[0m did you forget parentheses around the comprehension target?\n"
     ]
    }
   ],
   "source": [
    "[x, x % 2 for x in range(2,11)] # Missing the tuple brackets"
   ]
  },
  {
   "cell_type": "markdown",
   "metadata": {},
   "source": [
    "`Another Example`"
   ]
  },
  {
   "cell_type": "code",
   "execution_count": 105,
   "metadata": {},
   "outputs": [
    {
     "ename": "SyntaxError",
     "evalue": "did you forget parentheses around the comprehension target? (1507933623.py, line 1)",
     "output_type": "error",
     "traceback": [
      "\u001b[1;36m  Cell \u001b[1;32mIn[105], line 1\u001b[1;36m\u001b[0m\n\u001b[1;33m    [ x , y  for x in [1,2,3] for y in [4,2,5] if x]  # Missing the tuple brackets\u001b[0m\n\u001b[1;37m      ^\u001b[0m\n\u001b[1;31mSyntaxError\u001b[0m\u001b[1;31m:\u001b[0m did you forget parentheses around the comprehension target?\n"
     ]
    }
   ],
   "source": [
    "[ x , y  for x in [1,2,3] for y in [4,2,5] if x]  # Missing the tuple brackets"
   ]
  }
 ],
 "metadata": {
  "kernelspec": {
   "display_name": "myenv",
   "language": "python",
   "name": "python3"
  },
  "language_info": {
   "codemirror_mode": {
    "name": "ipython",
    "version": 3
   },
   "file_extension": ".py",
   "mimetype": "text/x-python",
   "name": "python",
   "nbconvert_exporter": "python",
   "pygments_lexer": "ipython3",
   "version": "3.12.0"
  }
 },
 "nbformat": 4,
 "nbformat_minor": 2
}
