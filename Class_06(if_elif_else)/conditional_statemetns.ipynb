{
 "cells": [
  {
   "cell_type": "markdown",
   "metadata": {},
   "source": [
    "# Python Conditional Statement"
   ]
  },
  {
   "cell_type": "markdown",
   "metadata": {},
   "source": [
    "```If-else-elif\n",
    "\n",
    "if logic:\n",
    "    True_block\n",
    "else:\n",
    "    False_block\n",
    "```"
   ]
  },
  {
   "cell_type": "markdown",
   "metadata": {},
   "source": [
    "```\n",
    "comprehensive if-else\n",
    "True_block if logic else False_block\n",
    "```"
   ]
  },
  {
   "cell_type": "markdown",
   "metadata": {},
   "source": [
    "Example 1 (with int)"
   ]
  },
  {
   "cell_type": "code",
   "execution_count": null,
   "metadata": {},
   "outputs": [
    {
     "name": "stdout",
     "output_type": "stream",
     "text": [
      "Greater\n"
     ]
    }
   ],
   "source": [
    "if 100 > 50:\n",
    "    print(\"Yes your given value is greater than\",)\n",
    "else:\n",
    "    print(\"Sorry your given value is not greater than\")\n",
    "    \n",
    "#  comprehensive way   \n",
    "# print(\"Greater\") if 100 > 50 else print(\"Not greater\")"
   ]
  },
  {
   "cell_type": "markdown",
   "metadata": {},
   "source": [
    "Example 2 (with str)"
   ]
  },
  {
   "cell_type": "code",
   "execution_count": 12,
   "metadata": {},
   "outputs": [
    {
     "name": "stdout",
     "output_type": "stream",
     "text": [
      "welcome Iqra\n"
     ]
    }
   ],
   "source": [
    "name : str = input(\"Enter your first Name\")\n",
    "if name ==\"Iqra Jahangir\":\n",
    "    print(\"welcome Iqra\")\n",
    "else:\n",
    "    print(\"Sorry your first name is not match\")\n",
    "    \n",
    "#  comprehensive way\n",
    "# print(\"welcome Iqra\") if name ==\"Iqra Jahangir\" else print(\"Sorry your first name is not match\")"
   ]
  },
  {
   "cell_type": "markdown",
   "metadata": {},
   "source": [
    "Example 3 (with int)"
   ]
  },
  {
   "cell_type": "code",
   "execution_count": 15,
   "metadata": {},
   "outputs": [
    {
     "name": "stdout",
     "output_type": "stream",
     "text": [
      "a equal is 20\n"
     ]
    }
   ],
   "source": [
    "a : int = input(\"Enter your value\")\n",
    "b=int(a)\n",
    "if b == 20:\n",
    "    print(\"a equal is 20\")\n",
    "else:\n",
    "    print(\"wrong\")\n",
    "\n",
    "#  comprehensive way\n",
    "# print(\"a equal is 20\") if b == 20 else print(\"wrong\")"
   ]
  },
  {
   "cell_type": "markdown",
   "metadata": {},
   "source": [
    " Practice with Logical Operator\n",
    "\n"
   ]
  },
  {
   "cell_type": "markdown",
   "metadata": {},
   "source": [
    "Example 1 with and operator"
   ]
  },
  {
   "cell_type": "code",
   "execution_count": null,
   "metadata": {},
   "outputs": [
    {
     "name": "stdout",
     "output_type": "stream",
     "text": [
      "Welcome Muhammad Huzaifa\n"
     ]
    }
   ],
   "source": [
    "firstname=input(\"Enter Your First Name \")\n",
    "lastname=input(\"Enter Your Last Name \")\n",
    "\n",
    "if  firstname==\"Muhammad\" and lastname== \"Huzaifa\":\n",
    "    print(\"Welcome\",firstname,lastname)\n",
    "elif firstname !=\"Muhammad\" and lastname==\"Huzaifa\":\n",
    "    print(\"Your First Name is not Correct\")\n",
    "elif firstname ==\"Muhammad\" and lastname!=\"Huzaifa\":\n",
    "    print(\"your last name is not correct\")\n",
    "else:\n",
    " print(\"Your name is not match\")"
   ]
  },
  {
   "cell_type": "markdown",
   "metadata": {},
   "source": [
    "Example 2 with and operator"
   ]
  },
  {
   "cell_type": "markdown",
   "metadata": {},
   "source": [
    "UserName=str(input(\"Please Enter Your User Name \"))\n",
    "Password=int(input(\"Please Enter Your Password \"))\n",
    "\n",
    "if UserName==\"Iqrasheikh\" and Password==5567:\n",
    "    print(\"Log in\")\n",
    "else:\n",
    "    print(\"Login Failed\")"
   ]
  },
  {
   "cell_type": "markdown",
   "metadata": {},
   "source": [
    "Percentage with Grade"
   ]
  },
  {
   "cell_type": "code",
   "execution_count": null,
   "metadata": {},
   "outputs": [
    {
     "name": "stdout",
     "output_type": "stream",
     "text": [
      " Your Percentage is 90.0 \n",
      " Your Grade is A++\n"
     ]
    }
   ],
   "source": [
    "# Get Marks from input\n",
    "math=int(input(\"Enter Your Maths marks \"))\n",
    "english=int(input(\"Enter Your English marks \"))\n",
    "urdu=int(input(\"Enter Your urdu marks \"))\n",
    "# Get Percentage\n",
    "total=((math+english+urdu)*100)/300  \n",
    "\n",
    "# Condition Start from here\n",
    "if total>=90 and 100:\n",
    "    print(\" Your Percentage is\",total,\"\\n\",\"Your Grade is A++\")\n",
    "elif total>=80 and 89:\n",
    "    print(\" Your Percentage is\",total,\"\\n\",\"Your Grade is A+\")\n",
    "elif total>=70 and 79:\n",
    "    print(\" Your Percentage is\",total,\"\\n\",\"Your Grade A\")\n",
    "elif total>=60 and 69:\n",
    "    print(\" Your Percentage is\",total,\"\\n\",\"Your Grade is B\")\n",
    "elif total>=50 and 59:\n",
    "    print(\" Your Percentage is\",total,\"\\n\",\"Your Grade is C\")\n",
    "elif total>=40 and 49:\n",
    "    print(\" Your Percentage is\",total,\"\\n\",\"your Grade is D\")\n",
    "elif total<=39:\n",
    "    print(\" Your Percentage less then 40\",total,\"\\n\",\"Sorry you are fail\")\n",
    "else:\n",
    "    print(\" Sorry your grade is not found\")"
   ]
  },
  {
   "cell_type": "markdown",
   "metadata": {},
   "source": [
    "`Grading Rule`"
   ]
  },
  {
   "cell_type": "code",
   "execution_count": 42,
   "metadata": {},
   "outputs": [
    {
     "name": "stdout",
     "output_type": "stream",
     "text": [
      "  Percentage : \t 100 \n",
      "  Grade : \t A+  \n"
     ]
    }
   ],
   "source": [
    "from typing import Union\n",
    "\n",
    "per : Union [int, float] = int(input(\"Enter your percentage\"))\n",
    "grade : Union [str, None] = None\n",
    "\n",
    "if per >= 90 and per <= 100:\n",
    "    grade = \"A+\"\n",
    "elif per >= 80 and per <= 89:\n",
    "    grade = \"A\"\n",
    "elif per >= 70 and per <= 79:\n",
    "    grade = \"B\"\n",
    "elif per >= 60 and per <= 69:\n",
    "    grade = \"C\"\n",
    "elif per >= 50 and per <= 59:\n",
    "    grade = \"D\"\n",
    "elif per >= 40 and per <= 49:\n",
    "    grade = \"E\"\n",
    "else:\n",
    "    grade = \"Fail\"\n",
    "\n",
    "print(f\"  Percentage : \\t {per} \\n  Grade : \\t {grade}  \")"
   ]
  },
  {
   "cell_type": "markdown",
   "metadata": {},
   "source": [
    "`by default input function return string`"
   ]
  },
  {
   "cell_type": "code",
   "execution_count": 54,
   "metadata": {},
   "outputs": [
    {
     "name": "stdout",
     "output_type": "stream",
     "text": [
      "<class 'str'>\n",
      "100\n"
     ]
    }
   ],
   "source": [
    "per = input(\"Enter your percentage\") # by default input function return string\n",
    "print(type(per)) \n",
    "print(per)"
   ]
  },
  {
   "cell_type": "code",
   "execution_count": 91,
   "metadata": {},
   "outputs": [
    {
     "name": "stdout",
     "output_type": "stream",
     "text": [
      "  Percentage : \t 100 \n",
      "  Grade : \t A+  \n"
     ]
    }
   ],
   "source": [
    "from typing import Union \n",
    "\n",
    "per : Union [int, float] = int(input(\"Enter your percentage\"))\n",
    "grade : Union [str, None] = None\n",
    "\n",
    "if per >= 90 and per <= 100:\n",
    "    grade = \"A+\"\n",
    "elif per >= 80 and per <= 89:\n",
    "    grade = \"A\"\n",
    "elif per >= 70 and per <= 79:\n",
    "    grade = \"B\"\n",
    "elif per >= 60 and per <= 69:\n",
    "    grade = \"C\"\n",
    "elif per >= 50 and per <= 59:\n",
    "    grade = \"D\"\n",
    "elif per >= 40 and per <= 49:\n",
    "    grade = \"E\"\n",
    "else:\n",
    "    grade = \"Fail\"\n",
    "\n",
    "print(f\"  Percentage : \\t {per} \\n  Grade : \\t {grade}  \")"
   ]
  },
  {
   "cell_type": "markdown",
   "metadata": {},
   "source": [
    "**Logical Error**"
   ]
  },
  {
   "cell_type": "code",
   "execution_count": 94,
   "metadata": {},
   "outputs": [
    {
     "name": "stdout",
     "output_type": "stream",
     "text": [
      "Dear Student your percentage is 100 now your calculated grade is:\t Fail\n"
     ]
    }
   ],
   "source": [
    "from typing import Union\n",
    "\n",
    "per : Union[int, float] = int(input(\"Enter your percentage:\\t\"))\n",
    "grade : Union[str, None] = None\n",
    "\n",
    "if per >= 0:\n",
    "    grade = \"Fail\"\n",
    "elif per >= 33:\n",
    "    grade = \"E\"\n",
    "elif per >= 40:\n",
    "    grade = \"D\"\n",
    "elif per >= 50:\n",
    "    grade = \"C\"\n",
    "elif per >= 60:\n",
    "    grade = \"B\"\n",
    "elif per >= 70:\n",
    "    grade = \"A\"\n",
    "else:\n",
    "    grade = \"A+\"\n",
    "\n",
    "print(f\"Dear Student your percentage is {per} now your calculated grade is:\\t {grade}\")"
   ]
  },
  {
   "cell_type": "code",
   "execution_count": 95,
   "metadata": {},
   "outputs": [
    {
     "name": "stdout",
     "output_type": "stream",
     "text": [
      "Dear Student your percentage is 100 now your calculated grade is:\t A+\n"
     ]
    }
   ],
   "source": [
    "from typing import Union\n",
    "\n",
    "per : Union[int, float] = int(input(\"Enter your percentage:\\t\"))\n",
    "grade : Union[str, None] = None\n",
    "\n",
    "if per >= 0 and per < 33:\n",
    "    grade = \"Fail\"\n",
    "elif per >= 33 and per < 40:\n",
    "    grade = \"E\"\n",
    "elif per >= 40 and per < 50:\n",
    "    grade = \"D\"\n",
    "elif per >= 50 and per < 60:\n",
    "    grade = \"C\"\n",
    "elif per >= 60 and per <70 :\n",
    "    grade = \"B\"\n",
    "elif per >= 70 and per <80 :\n",
    "    grade = \"A\"\n",
    "elif per >=80 and per <= 100:\n",
    "    grade = \"A+\"\n",
    "\n",
    "print(f\"Dear Student your percentage is {per} now your calculated grade is:\\t {grade}\")\n",
    "    "
   ]
  },
  {
   "cell_type": "code",
   "execution_count": 139,
   "metadata": {},
   "outputs": [
    {
     "name": "stdout",
     "output_type": "stream",
     "text": [
      "Percentage : [100, 90, 80, 70, 60, 50, 40, 30] \n",
      "Grades :  ['A++', 'A++', 'A+', 'A', 'B', 'C', 'D', 'Fail']\n"
     ]
    }
   ],
   "source": [
    "from typing import Union\n",
    "numeric_type = Union[int, float]\n",
    "\n",
    "percentage : list[numeric_type] = [100, 90, 80, 70, 60, 50, 40, 30]\n",
    "grades  : list[str] = []\n",
    "\n",
    "for per in percentage:\n",
    "    grade : str = \"\"\n",
    "    \n",
    "    if per >= 0 and per < 33:\n",
    "        grade = \"Fail\"\n",
    "    elif per >= 33 and per < 40:\n",
    "        grade = \"E\"\n",
    "    elif per >= 40 and per < 50:\n",
    "        grade = \"D\"\n",
    "    elif per >= 50 and per < 60:\n",
    "        grade = \"C\"\n",
    "    elif per >= 60 and per < 70:\n",
    "        grade = \"B\"\n",
    "    elif per >= 70 and per < 80:\n",
    "        grade = \"A\"\n",
    "    elif per >= 80 and per < 90:\n",
    "        grade = \"A+\"\n",
    "    elif per >= 90 and per <= 100:\n",
    "        grade = \"A++\"\n",
    "    grades.append(grade)\n",
    "    \n",
    "print(f\"Percentage : {percentage} \") \n",
    "print(f\"Grades :  {grades}\")\n"
   ]
  },
  {
   "cell_type": "code",
   "execution_count": 140,
   "metadata": {},
   "outputs": [
    {
     "name": "stdout",
     "output_type": "stream",
     "text": [
      "[(100, 'A++'), (90, 'A++'), (80, 'A+'), (70, 'A'), (60, 'B'), (50, 'C'), (40, 'D'), (30, 'Fail')]\n"
     ]
    }
   ],
   "source": [
    "print(list(zip(percentage, grades)))"
   ]
  },
  {
   "cell_type": "code",
   "execution_count": null,
   "metadata": {},
   "outputs": [],
   "source": []
  }
 ],
 "metadata": {
  "kernelspec": {
   "display_name": "myenv",
   "language": "python",
   "name": "python3"
  },
  "language_info": {
   "codemirror_mode": {
    "name": "ipython",
    "version": 3
   },
   "file_extension": ".py",
   "mimetype": "text/x-python",
   "name": "python",
   "nbconvert_exporter": "python",
   "pygments_lexer": "ipython3",
   "version": "3.12.0"
  }
 },
 "nbformat": 4,
 "nbformat_minor": 2
}
