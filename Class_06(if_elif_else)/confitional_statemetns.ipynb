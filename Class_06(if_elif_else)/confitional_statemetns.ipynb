{
 "cells": [
  {
   "cell_type": "markdown",
   "metadata": {},
   "source": [
    "# Python Conditions and If statements"
   ]
  },
  {
   "cell_type": "markdown",
   "metadata": {},
   "source": [
    "Example 1 (with int)"
   ]
  },
  {
   "cell_type": "code",
   "execution_count": null,
   "metadata": {},
   "outputs": [
    {
     "name": "stdout",
     "output_type": "stream",
     "text": [
      "Yes your given value is greater than\n"
     ]
    }
   ],
   "source": [
    "x= 50\n",
    "if x >45:\n",
    "    print(\"Yes your given value is greater than\",)\n",
    "else:\n",
    "    print(\"Sorry your given value is not greater than\")"
   ]
  },
  {
   "cell_type": "markdown",
   "metadata": {},
   "source": [
    "Example 2 (with str)"
   ]
  },
  {
   "cell_type": "code",
   "execution_count": null,
   "metadata": {},
   "outputs": [
    {
     "name": "stdout",
     "output_type": "stream",
     "text": [
      "welcome Iqra\n"
     ]
    }
   ],
   "source": [
    "name=input(\"Enter your first Name\")\n",
    "if name ==\"Iqra Jahangir\":\n",
    "    print(\"welcome Iqra\")\n",
    "else:\n",
    "    print(\"Sorry your first name is not match\")"
   ]
  },
  {
   "cell_type": "markdown",
   "metadata": {},
   "source": [
    "Example 3 (with int)"
   ]
  },
  {
   "cell_type": "code",
   "execution_count": null,
   "metadata": {},
   "outputs": [
    {
     "name": "stdout",
     "output_type": "stream",
     "text": [
      "wrong\n"
     ]
    }
   ],
   "source": [
    "a=input(\"Enter your value\")\n",
    "b=int(a)\n",
    "if b == 20:\n",
    "    print(\"a equal is 20\")\n",
    "else:\n",
    "    print(\"wrong\")"
   ]
  },
  {
   "cell_type": "markdown",
   "metadata": {},
   "source": [
    " Practice with Logical Operator\n",
    "\n"
   ]
  },
  {
   "cell_type": "markdown",
   "metadata": {},
   "source": [
    "Example 1 with and operator"
   ]
  },
  {
   "cell_type": "code",
   "execution_count": null,
   "metadata": {},
   "outputs": [
    {
     "name": "stdout",
     "output_type": "stream",
     "text": [
      "Welcome Muhammad Huzaifa\n"
     ]
    }
   ],
   "source": [
    "firstname=input(\"Enter Your First Name \")\n",
    "lastname=input(\"Enter Your Last Name \")\n",
    "\n",
    "if  firstname==\"Muhammad\" and lastname== \"Huzaifa\":\n",
    "    print(\"Welcome\",firstname,lastname)\n",
    "elif firstname !=\"Muhammad\" and lastname==\"Huzaifa\":\n",
    "    print(\"Your First Name is not Correct\")\n",
    "elif firstname ==\"Muhammad\" and lastname!=\"Huzaifa\":\n",
    "    print(\"your last name is not correct\")\n",
    "else:\n",
    " print(\"Your name is not match\")"
   ]
  },
  {
   "cell_type": "markdown",
   "metadata": {},
   "source": [
    "Example 2 with and operator"
   ]
  },
  {
   "cell_type": "markdown",
   "metadata": {},
   "source": [
    "UserName=str(input(\"Please Enter Your User Name \"))\n",
    "Password=int(input(\"Please Enter Your Password \"))\n",
    "\n",
    "if UserName==\"Iqrasheikh\" and Password==5567:\n",
    "    print(\"Log in\")\n",
    "else:\n",
    "    print(\"Login Failed\")"
   ]
  },
  {
   "cell_type": "markdown",
   "metadata": {},
   "source": [
    "Percentage with Grade"
   ]
  },
  {
   "cell_type": "code",
   "execution_count": null,
   "metadata": {},
   "outputs": [
    {
     "name": "stdout",
     "output_type": "stream",
     "text": [
      " Your Percentage is 90.0 \n",
      " Your Grade is A++\n"
     ]
    }
   ],
   "source": [
    "# Get Marks from input\n",
    "math=int(input(\"Enter Your Maths marks \"))\n",
    "english=int(input(\"Enter Your English marks \"))\n",
    "urdu=int(input(\"Enter Your urdu marks \"))\n",
    "# Get Percentage\n",
    "total=((math+english+urdu)*100)/300  \n",
    "\n",
    "# Condition Start from here\n",
    "if total>=90 and 100:\n",
    "    print(\" Your Percentage is\",total,\"\\n\",\"Your Grade is A++\")\n",
    "elif total>=80 and 89:\n",
    "    print(\" Your Percentage is\",total,\"\\n\",\"Your Grade is A+\")\n",
    "elif total>=70 and 79:\n",
    "    print(\" Your Percentage is\",total,\"\\n\",\"Your Grade A\")\n",
    "elif total>=60 and 69:\n",
    "    print(\" Your Percentage is\",total,\"\\n\",\"Your Grade is B\")\n",
    "elif total>=50 and 59:\n",
    "    print(\" Your Percentage is\",total,\"\\n\",\"Your Grade is C\")\n",
    "elif total>=40 and 49:\n",
    "    print(\" Your Percentage is\",total,\"\\n\",\"your Grade is D\")\n",
    "elif total<=39:\n",
    "    print(\" Your Percentage less then 40\",total,\"\\n\",\"Sorry you are fail\")\n",
    "else:\n",
    "    print(\" Sorry your grade is not found\")"
   ]
  }
 ],
 "metadata": {
  "language_info": {
   "name": "python"
  }
 },
 "nbformat": 4,
 "nbformat_minor": 2
}
