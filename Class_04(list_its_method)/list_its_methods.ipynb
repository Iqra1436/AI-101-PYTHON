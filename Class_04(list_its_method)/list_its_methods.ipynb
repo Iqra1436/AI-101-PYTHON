{
 "cells": [
  {
   "cell_type": "markdown",
   "metadata": {},
   "source": [
    "# List and its method"
   ]
  },
  {
   "cell_type": "markdown",
   "metadata": {},
   "source": [
    "What are lists?\n",
    "A list stores a series of items in a particular order. Lists\n",
    "allow you to store sets of information in one place,\n",
    "whether you have just a few items or millions of items.\n",
    "Lists are one of Python's most powerful features\n",
    "readily accessible to new programmers, and they tie\n",
    "together many important concepts in programming\n"
   ]
  },
  {
   "cell_type": "markdown",
   "metadata": {},
   "source": [
    "Defining a list\n",
    "Use square brackets to define a list, and use commas to\n",
    "separate individual items in the list. Use plural names for\n",
    "lists, to make it clear that the variable represents more than\n",
    "one item.\n"
   ]
  },
  {
   "cell_type": "markdown",
   "metadata": {},
   "source": [
    "# List\n",
    "\n",
    "    dynamic length\n",
    "    hetrogenous data types (Multiple type)\n",
    "    index\n",
    "        postive 0 to n-1\n",
    "        negative -1 to length\n"
   ]
  },
  {
   "cell_type": "markdown",
   "metadata": {},
   "source": [
    "# slicing\n",
    "\n",
    "    variable names[start:end:step]\n",
    "    start : int = include\n",
    "    end : int = n-1\n",
    "    step : int = sequance\n"
   ]
  },
  {
   "cell_type": "markdown",
   "metadata": {},
   "source": [
    "`Slicing a list\n",
    "`"
   ]
  },
  {
   "cell_type": "markdown",
   "metadata": {},
   "source": [
    "ou can work with any subset of elements from a list. A\n",
    "portion of a list is called a slice. To slice a list start with the\n",
    "index of the first item you want, then add a colon and the\n",
    "index after the last item you want. Leave off the first index\n",
    "to start at the beginning of the list, and leave off the second\n",
    "index to slice through the end of the list.\n"
   ]
  },
  {
   "cell_type": "markdown",
   "metadata": {},
   "source": [
    "`Example`\n",
    "\n",
    "`Return the third, fourth, and fifth item:`\n"
   ]
  },
  {
   "cell_type": "code",
   "execution_count": 302,
   "metadata": {},
   "outputs": [
    {
     "name": "stdout",
     "output_type": "stream",
     "text": [
      "\n",
      "# >                     0         1      2           3           4           5  \n",
      "fruits : list[str] = ['Orange','Mango','Apple','Watermelon','Strawberry','pineapple']\n",
      "# <                    -6        -5      -4          -3          -2          -1\n",
      "\n",
      "Return the third, fourth, and fifth item:\n",
      "\n",
      "a = fruits[2:5]    \n",
      "\n",
      "a : ['Apple', 'Watermelon', 'Strawberry'] \n",
      "\n",
      "\n"
     ]
    }
   ],
   "source": [
    "# >                     0         1      2           3           4           5  \n",
    "fruits : list[str] = ['Orange','Mango','Apple','Watermelon','Strawberry','pineapple']\n",
    "# <                    -6        -5      -4          -3          -2          -1\n",
    "\n",
    "a = fruits[2:5]\n",
    "\n",
    "print(f\"\"\"\n",
    "# >                     0         1      2           3           4           5  \n",
    "fruits : list[str] = ['Orange','Mango','Apple','Watermelon','Strawberry','pineapple']\n",
    "# <                    -6        -5      -4          -3          -2          -1\n",
    "\n",
    "Return the third, fourth, and fifth item:\n",
    "\n",
    "a = fruits[2:5]    \n",
    "\n",
    "a : {a} \n",
    "\n",
    "\"\"\")"
   ]
  },
  {
   "cell_type": "markdown",
   "metadata": {},
   "source": [
    "`This example returns the items from \"orange\" (-4) to, but NOT including \"mango\" (-1):\n",
    "`"
   ]
  },
  {
   "cell_type": "code",
   "execution_count": 305,
   "metadata": {},
   "outputs": [
    {
     "name": "stdout",
     "output_type": "stream",
     "text": [
      "\n",
      "# >          0        1         2         3        4        5       6         Positive Indexing\n",
      "fruits = [\"apple\", \"banana\", \"cherry\", \"orange\", \"kiwi\", \"melon\", \"mango\"]    \n",
      "# <         -7       -6        -5       -4       -3       -2       -1         Negative Indexing\n",
      "\n",
      "This example returns the items from \"orange\" (-4) to, but NOT including \"mango\" (-1)\n",
      "\n",
      "a = fruits[-4 : - 1]\n",
      "\n",
      "a : ['orange', 'kiwi', 'melon']\n",
      "\n",
      "\n"
     ]
    }
   ],
   "source": [
    "# >          0        1         2           3           4           5\n",
    "fruits = [\"apple\", \"banana\", \"cherry\", \"orange\", \"kiwi\", \"melon\", \"mango\"]\n",
    "# <         -7       -6        -5       -4       -3       -2       -1\n",
    "\n",
    "a = fruits[-4 : - 1]\n",
    "\n",
    "print(f\"\"\"\n",
    "# >          0        1         2         3        4        5       6         Positive Indexing\n",
    "fruits = [\"apple\", \"banana\", \"cherry\", \"orange\", \"kiwi\", \"melon\", \"mango\"]    \n",
    "# <         -7       -6        -5       -4       -3       -2       -1         Negative Indexing\n",
    "\n",
    "This example returns the items from \"orange\" (-4) to, but NOT including \"mango\" (-1)\n",
    "\n",
    "a = fruits[-4 : - 1]\n",
    "\n",
    "a : {a}\n",
    "\n",
    "\"\"\")"
   ]
  },
  {
   "cell_type": "markdown",
   "metadata": {},
   "source": [
    "`Getting the first three items\n",
    "`"
   ]
  },
  {
   "cell_type": "code",
   "execution_count": 311,
   "metadata": {},
   "outputs": [
    {
     "name": "stdout",
     "output_type": "stream",
     "text": [
      "\n",
      "# >            0      1      2      3      4      Positive Indexing\n",
      "finishers = ['kai', 'abe', 'ada', 'gus', 'zoe']   \n",
      "# <           -5     -4     -3     -2     -1      Negative Indexing\n",
      "\n",
      "first_three = finishers[1:4]  Getting the first three items\n",
      "\n",
      "first_three : ['kai', 'abe', 'ada']\n",
      "\n",
      "\n"
     ]
    }
   ],
   "source": [
    "# >            0      1      2      3      4\n",
    "finishers = ['kai', 'abe', 'ada', 'gus', 'zoe']\n",
    "# <           -5     -4     -3     -2     -1\n",
    "\n",
    "\n",
    "first_three = finishers[:3]\n",
    "\n",
    "print(f\"\"\"\n",
    "# >            0      1      2      3      4      Positive Indexing\n",
    "finishers = ['kai', 'abe', 'ada', 'gus', 'zoe']   \n",
    "# <           -5     -4     -3     -2     -1      Negative Indexing\n",
    "\n",
    "first_three = finishers[1:4]  Getting the first three items\n",
    "\n",
    "first_three : {first_three}\n",
    "\n",
    "\"\"\")"
   ]
  },
  {
   "cell_type": "markdown",
   "metadata": {},
   "source": [
    "`Getting the middle three items\n",
    "`"
   ]
  },
  {
   "cell_type": "code",
   "execution_count": 308,
   "metadata": {},
   "outputs": [
    {
     "name": "stdout",
     "output_type": "stream",
     "text": [
      "\n",
      "# >            0      1      2      3      4    Postive indexing\n",
      "finishers = ['kai', 'abe', 'ada', 'gus', 'zoe']\n",
      "# <           -5     -4     -3     -2     -1    Negative indexing\n",
      "\n",
      "middle_three = finishers[1:4]       Getting the middle three items\n",
      "\n",
      "middle_three : ['abe', 'ada', 'gus']\n",
      "\n",
      "\n"
     ]
    }
   ],
   "source": [
    "# >            0      1      2      3      4\n",
    "finishers = ['kai', 'abe', 'ada', 'gus', 'zoe']\n",
    "# <           -5     -4     -3     -2     -1\n",
    "\n",
    "middle_three = finishers[1:4]\n",
    "\n",
    "print(f\"\"\"\n",
    "# >            0      1      2      3      4    Postive indexing\n",
    "finishers = ['kai', 'abe', 'ada', 'gus', 'zoe']\n",
    "# <           -5     -4     -3     -2     -1    Negative indexing\n",
    "\n",
    "middle_three = finishers[1:4]       Getting the middle three items\n",
    "\n",
    "middle_three : {middle_three}\n",
    "\n",
    "\"\"\")"
   ]
  },
  {
   "cell_type": "markdown",
   "metadata": {},
   "source": [
    "`Getting the last three items`\n"
   ]
  },
  {
   "cell_type": "code",
   "execution_count": 312,
   "metadata": {},
   "outputs": [
    {
     "name": "stdout",
     "output_type": "stream",
     "text": [
      "    \n",
      "# >            0      1      2      3      4      Positive Indexing\n",
      "finishers = ['kai', 'abe', 'ada', 'gus', 'zoe']\n",
      "# <           -5     -4     -3     -2     -1      Negative indexing\n",
      "\n",
      "last_three = finishers[1:4]    Getting the last three items   \n",
      "\n",
      "last_three : ['ada', 'gus', 'zoe']\n",
      "\n"
     ]
    }
   ],
   "source": [
    "# >            0      1      2      3      4\n",
    "finishers = ['kai', 'abe', 'ada', 'gus', 'zoe']\n",
    "# <           -5     -4     -3     -2     -1\n",
    "\n",
    "last_three = finishers[-3:]\n",
    "\n",
    "print(f\"\"\"    \n",
    "# >            0      1      2      3      4      Positive Indexing\n",
    "finishers = ['kai', 'abe', 'ada', 'gus', 'zoe']\n",
    "# <           -5     -4     -3     -2     -1      Negative indexing\n",
    "\n",
    "last_three = finishers[1:4]    Getting the last three items   \n",
    "\n",
    "last_three : {last_three}\n",
    "\"\"\")"
   ]
  },
  {
   "cell_type": "markdown",
   "metadata": {},
   "source": [
    "Accessing elements\n",
    "Individual elements in a list are accessed according to their\n",
    "position, called the index. The index of the first element is 0,\n",
    "the index of the second element is 1, and so forth. Negative\n",
    "indices refer to items at the end of the list. To get a particular\n",
    "element, write the name of the list and then the index of the\n",
    "element in square brackets.\n"
   ]
  },
  {
   "cell_type": "markdown",
   "metadata": {},
   "source": [
    "`Getting the first element\n",
    "`"
   ]
  },
  {
   "cell_type": "code",
   "execution_count": 313,
   "metadata": {},
   "outputs": [
    {
     "name": "stdout",
     "output_type": "stream",
     "text": [
      "\n",
      "# >                   0   1   2   3   4  5       positive indexing\n",
      "\n",
      "alpha : list[str] = ['A','B','C','D','E','F']\n",
      "\n",
      "# <                  -6  -5  -4  -3  -2  -1      Negative indexing\n",
      "                                                                 \n",
      "first_element = alpha[0]      Getting the first element  \n",
      "\n",
      "first_element : A \n",
      "\n",
      "\n"
     ]
    }
   ],
   "source": [
    "# >                   0   1   2   3   4  5\n",
    "alpha : list[str] = ['A','B','C','D','E','F']\n",
    "# <                  -6  -5  -4  -3  -2  -1\n",
    "\n",
    "first_element = alpha[0]\n",
    "\n",
    "print(f\"\"\"\n",
    "# >                   0   1   2   3   4  5       positive indexing\n",
    "alpha : list[str] = ['A','B','C','D','E','F']\n",
    "# <                  -6  -5  -4  -3  -2  -1      Negative indexing\n",
    "                                                                 \n",
    "first_element = alpha[0]      Getting the first element  \n",
    "\n",
    "first_element : {first_element} \n",
    "\n",
    "\"\"\")"
   ]
  },
  {
   "cell_type": "markdown",
   "metadata": {},
   "source": [
    "`Getting the second element\n",
    "`"
   ]
  },
  {
   "cell_type": "code",
   "execution_count": 314,
   "metadata": {},
   "outputs": [
    {
     "name": "stdout",
     "output_type": "stream",
     "text": [
      "\n",
      "# >                   0   1   2   3   4  5       positive indexing\n",
      "alpha : list[str] = ['A','B','C','D','E','F']\n",
      "# <                  -6  -5  -4  -3  -2  -1      Negative indexing\n",
      "                                                                 \n",
      "second_element = alpha[1]     Getting the second element \n",
      "\n",
      "second_element : B \n",
      "\n",
      "\n"
     ]
    }
   ],
   "source": [
    "# >                   0   1   2   3   4  5\n",
    "alpha : list[str] = ['A','B','C','D','E','F']\n",
    "# <                  -6  -5  -4  -3  -2  -1\n",
    "\n",
    "second_element = alpha[1]\n",
    "\n",
    "print(f\"\"\"\n",
    "# >                   0   1   2   3   4  5       positive indexing\n",
    "alpha : list[str] = ['A','B','C','D','E','F']\n",
    "# <                  -6  -5  -4  -3  -2  -1      Negative indexing\n",
    "                                                                 \n",
    "second_element = alpha[1]     Getting the second element \n",
    "\n",
    "second_element : {second_element} \n",
    "\n",
    "\"\"\")"
   ]
  },
  {
   "cell_type": "markdown",
   "metadata": {},
   "source": [
    "`Getting the last element\n",
    "`"
   ]
  },
  {
   "cell_type": "code",
   "execution_count": 315,
   "metadata": {},
   "outputs": [
    {
     "name": "stdout",
     "output_type": "stream",
     "text": [
      "\n",
      "# >                   0   1   2   3   4  5       positive indexing\n",
      "alpha : list[str] = ['A','B','C','D','E','F']\n",
      "# <                  -6  -5  -4  -3  -2  -1      Negative indexing\n",
      "                                                                 \n",
      "last_element = alpha[-1]      Getting the last element\n",
      "\n",
      "last_element : F \n",
      "\n",
      "\n"
     ]
    }
   ],
   "source": [
    "# >                   0   1   2   3   4  5\n",
    "alpha : list[str] = ['A','B','C','D','E','F']\n",
    "# <                  -6  -5  -4  -3  -2  -1\n",
    "\n",
    "last_element = alpha[-1]\n",
    "\n",
    "print(f\"\"\"\n",
    "# >                   0   1   2   3   4  5       positive indexing\n",
    "alpha : list[str] = ['A','B','C','D','E','F']\n",
    "# <                  -6  -5  -4  -3  -2  -1      Negative indexing\n",
    "                                                                 \n",
    "last_element = alpha[-1]      Getting the last element\n",
    "\n",
    "last_element : {last_element} \n",
    "\n",
    "\"\"\")"
   ]
  },
  {
   "cell_type": "markdown",
   "metadata": {},
   "source": [
    "```Modifying individual items\n",
    "Once you've defined a list, you can change the value of\n",
    "individual elements in the list. You do this by referring to the\n",
    "index of the item you want to modify```\n"
   ]
  },
  {
   "cell_type": "markdown",
   "metadata": {},
   "source": [
    "Changing an element\n"
   ]
  },
  {
   "cell_type": "code",
   "execution_count": 8,
   "metadata": {},
   "outputs": [
    {
     "name": "stdout",
     "output_type": "stream",
     "text": [
      "['abc', 'def', 'ghi', 'D', 'E', 'F']\n"
     ]
    }
   ],
   "source": [
    "# >                   0   1   2   3   4  5\n",
    "names : list[str] = ['A','B','C','D','E','F']\n",
    "# <                  -6  -5  -4  -3  -2  -1\n",
    "names[0] = 'abc' #change element value\n",
    "names[1] = 'def' #change element value\n",
    "names[2] = 'ghi' #change element value\n",
    "print(names)"
   ]
  },
  {
   "cell_type": "markdown",
   "metadata": {},
   "source": [
    "`List length\n",
    "`"
   ]
  },
  {
   "cell_type": "markdown",
   "metadata": {},
   "source": [
    "`The len() function returns the number of items in a list.\n",
    "`"
   ]
  },
  {
   "cell_type": "markdown",
   "metadata": {},
   "source": [
    "`Find the length of a list\n",
    "`"
   ]
  },
  {
   "cell_type": "code",
   "execution_count": 20,
   "metadata": {},
   "outputs": [
    {
     "name": "stdout",
     "output_type": "stream",
     "text": [
      "3\n"
     ]
    }
   ],
   "source": [
    "# >                        0   1   2   \n",
    "list_items : list[str] = ['a','b','c']\n",
    "# <                       -3  -2  -1\n",
    "print(len(list_items)) # find length of a list\\'"
   ]
  },
  {
   "cell_type": "markdown",
   "metadata": {},
   "source": [
    "# List Methods\n",
    "`[i for i in dir(name) if \"__\" not in i]) # methods and attributes`\n"
   ]
  },
  {
   "cell_type": "code",
   "execution_count": 21,
   "metadata": {},
   "outputs": [
    {
     "name": "stdout",
     "output_type": "stream",
     "text": [
      "['append', 'clear', 'copy', 'count', 'extend', 'index', 'insert', 'pop', 'remove', 'reverse', 'sort']\n"
     ]
    }
   ],
   "source": [
    "# >                 0   1   2    3   4   5\n",
    "name : list[str] = ['A','B','C','D','E','F']\n",
    "# <                 -6  -5  -4   -3  -2  -1\n",
    "print([i for i in dir(name) if \"__\" not in i]) # methods and attributes"
   ]
  },
  {
   "cell_type": "markdown",
   "metadata": {},
   "source": [
    "# Adding elements\n"
   ]
  },
  {
   "cell_type": "markdown",
   "metadata": {},
   "source": [
    "```You can add elements to the end of a list, or you can insert\n",
    "them wherever you like in a list. This allows you to modify\n",
    "existing lists, or start with an empty list and then add items to\n",
    "it as the program develops.```\n"
   ]
  },
  {
   "cell_type": "markdown",
   "metadata": {},
   "source": [
    "`Adding an element to the end of the list\n",
    "`"
   ]
  },
  {
   "cell_type": "code",
   "execution_count": 339,
   "metadata": {},
   "outputs": [
    {
     "name": "stdout",
     "output_type": "stream",
     "text": [
      " \n",
      "\n",
      "a : list[str] = ['A','B','C','D','E','F']\n",
      "\n",
      "a.append('paksitan')      \n",
      "\n",
      "Adding an element to the end of the list\n",
      "\n",
      "After  : ['A', 'B', 'C', 'D', 'E', 'F', 'paksitan'] \n",
      "\n",
      "\n"
     ]
    }
   ],
   "source": [
    "# >                  0   1   2   3   4   5\n",
    "a : list[str] = ['A','B','C','D','E','F']\n",
    "# <                 -6  -5  -4  -3  -2  -1\n",
    "\n",
    "a.append('paksitan')\n",
    "\n",
    "print(f\"\"\" \n",
    "\n",
    "a : list[str] = ['A','B','C','D','E','F']\n",
    "\n",
    "a.append('paksitan')      \n",
    "\n",
    "Adding an element to the end of the list\n",
    "\n",
    "After  : {a} \n",
    "\n",
    "\"\"\")"
   ]
  },
  {
   "cell_type": "markdown",
   "metadata": {},
   "source": [
    "`Starting with an empty list\n",
    "`"
   ]
  },
  {
   "cell_type": "code",
   "execution_count": 356,
   "metadata": {},
   "outputs": [
    {
     "name": "stdout",
     "output_type": "stream",
     "text": [
      "\n",
      "a : list[str] = [ ]     Starting with an empty list\n",
      "\n",
      "a.append('karachi')     append\n",
      "\n",
      "a.append('islamabad')   append\n",
      "\n",
      "a.append('lahore')      append\n",
      "\n",
      "a.append('Abbotabad')   append\n",
      "\n",
      "a : ['karachi', 'islamabad', 'lahore', 'Abbotabad']   After append empty list\n",
      "    \n",
      "\n"
     ]
    }
   ],
   "source": [
    "a : list[str] = [ ]\n",
    "a.append('karachi')\n",
    "a.append('islamabad')\n",
    "a.append('lahore')\n",
    "a.append('Abbotabad')\n",
    "\n",
    "cities = a\n",
    "\n",
    "print(f\"\"\"\n",
    "a : list[str] = [ ]     Starting with an empty list\n",
    "\n",
    "a.append('karachi')     append\n",
    "\n",
    "a.append('islamabad')   append\n",
    "\n",
    "a.append('lahore')      append\n",
    "\n",
    "a.append('Abbotabad')   append\n",
    "\n",
    "a : {cities}   After append empty list\n",
    "    \n",
    "\"\"\")"
   ]
  },
  {
   "cell_type": "markdown",
   "metadata": {},
   "source": [
    "`Inserting elements at a particular position\n",
    "`"
   ]
  },
  {
   "cell_type": "code",
   "execution_count": 366,
   "metadata": {},
   "outputs": [
    {
     "name": "stdout",
     "output_type": "stream",
     "text": [
      "\n",
      "Insert Method with empty list\n",
      "\n",
      "a : list[str] = []  \n",
      "\n",
      "a.insert(0, \"a\")    Inserting elements at a particular position\n",
      "\n",
      "a.insert(1, \"b\")    Inserting elements at a particular position\n",
      "\n",
      "a.insert(2, \"c\")    Inserting elements at a particular position\n",
      "\n",
      "After : ['a', 'b', 'c']\n",
      "      \n",
      "\n"
     ]
    }
   ],
   "source": [
    "a : list[str] = []\n",
    "\n",
    "a.insert(0, \"a\")\n",
    "\n",
    "a.insert(1, \"b\")\n",
    "\n",
    "a.insert(2, \"c\")\n",
    "\n",
    "print(f\"\"\"\n",
    "Insert Method with empty list\n",
    "\n",
    "a : list[str] = []  \n",
    "\n",
    "a.insert(0, \"a\")    Inserting elements at a particular position\n",
    "\n",
    "a.insert(1, \"b\")    Inserting elements at a particular position\n",
    "\n",
    "a.insert(2, \"c\")    Inserting elements at a particular position\n",
    "\n",
    "After : {a}\n",
    "      \n",
    "\"\"\")"
   ]
  },
  {
   "cell_type": "markdown",
   "metadata": {},
   "source": [
    "# Removing elements "
   ]
  },
  {
   "cell_type": "markdown",
   "metadata": {},
   "source": [
    "```You can remove elements by their position in a list, or by the\n",
    "value of the item. If you remove an item by its value, Python\n",
    "removes only the first item that has that value.```\n"
   ]
  },
  {
   "cell_type": "markdown",
   "metadata": {},
   "source": [
    "# Delete\n",
    "`Deleting an element by its position`\n"
   ]
  },
  {
   "cell_type": "code",
   "execution_count": 399,
   "metadata": {},
   "outputs": [
    {
     "name": "stdout",
     "output_type": "stream",
     "text": [
      "\n",
      "      \n",
      "# >                 0   1   2   3   4   5   6   7       Postitive Element\n",
      "user : list[int] = [1 , 2 , 4 , 7 , 6 , 9 , 10 , 5]\n",
      "# <                -8  -7  -6  -5  -4  -3  -2   -1      Negative Element\n",
      "\n",
      "Deleting an element by its position\n",
      "\n",
      "del user[0]       delete positive index\n",
      " \n",
      "user = [2, 4, 7, 6, 9, 10]  \n",
      "\n",
      "del user[-1]      delete negative index\n",
      " \n",
      "user = [2, 4, 7, 6, 9, 10]  \n",
      "         \n",
      "\n"
     ]
    }
   ],
   "source": [
    "# >                 0   1   2   3   4   5   6   7\n",
    "user : list[int] = [1 , 2 , 4 , 7 , 6 , 9 , 10 , 5]\n",
    "# <                -8  -7  -6  -5  -4  -3  -2   -1\n",
    "\n",
    "del user[0]\n",
    "\n",
    "del user[-1]\n",
    " \n",
    "print(f\"\"\"\n",
    "      \n",
    "# >                 0   1   2   3   4   5   6   7       Postitive Element\n",
    "user : list[int] = [1 , 2 , 4 , 7 , 6 , 9 , 10 , 5]\n",
    "# <                -8  -7  -6  -5  -4  -3  -2   -1      Negative Element\n",
    "\n",
    "Deleting an element by its position\n",
    "\n",
    "del user[0]       delete positive index\n",
    " \n",
    "user = {user}  \n",
    "\n",
    "del user[-1]      delete negative index\n",
    " \n",
    "user = {user}  \n",
    "         \n",
    "\"\"\")"
   ]
  },
  {
   "cell_type": "markdown",
   "metadata": {},
   "source": [
    "# Remove\n",
    "`Removing an item by its value\n",
    "`"
   ]
  },
  {
   "cell_type": "code",
   "execution_count": 394,
   "metadata": {},
   "outputs": [
    {
     "name": "stdout",
     "output_type": "stream",
     "text": [
      "\n",
      "# >                  0   1   2   3   4   5  \n",
      "name : list[str] = ['A','B','C','D','E','F']\n",
      "# <                 -6  -5  -4  -3  -2  -1\n",
      "\n",
      "name.remove(\"B\")   Removing an item by its value\n",
      "\n",
      "name = ['A', 'C', 'D', 'E', 'F']\n",
      "\n",
      "Remove = 'B' \n",
      "        \n",
      "\n"
     ]
    }
   ],
   "source": [
    "# >                  0   1   2   3   4   5  \n",
    "name : list[str] = ['A','B','C','D','E','F']\n",
    "# <                 -6  -5  -4  -3  -2  -1\n",
    "\n",
    "name.remove(\"B\")\n",
    "\n",
    "print(f\"\"\"\n",
    "# >                  0   1   2   3   4   5  \n",
    "name : list[str] = ['A','B','C','D','E','F']\n",
    "# <                 -6  -5  -4  -3  -2  -1\n",
    "\n",
    "name.remove(\"B\")   Removing an item by its value\n",
    "\n",
    "name = {name}\n",
    "\n",
    "Remove = 'B' \n",
    "        \n",
    "\"\"\")"
   ]
  },
  {
   "cell_type": "markdown",
   "metadata": {},
   "source": [
    "# Clear\n"
   ]
  },
  {
   "cell_type": "code",
   "execution_count": 410,
   "metadata": {},
   "outputs": [
    {
     "name": "stdout",
     "output_type": "stream",
     "text": [
      "  \n",
      "Clear Method\n",
      "\n",
      "# >                 0   1   2   3   4   5   6   7\n",
      "user : list[int] = [1 , 2 , 4 , 7 , 6 , 9 , 10 , 5]\n",
      "# <                -8  -7  -6  -5  -4  -3  -2   -1\n",
      "\n",
      "user.clear() # delete all element from memory but remian object\n",
      "\n",
      "user = []\n",
      "\n",
      "\n",
      "\n"
     ]
    }
   ],
   "source": [
    "# >                 0   1   2   3   4   5   6   7\n",
    "user : list[int] = [1 , 2 , 4 , 7 , 6 , 9 , 10 , 5]\n",
    "# <                -8  -7  -6  -5  -4  -3  -2   -1\n",
    "user.clear() # delete all element from memory but remian object\n",
    "\n",
    "print(f\"\"\"  \n",
    "Clear Method\n",
    "\n",
    "# >                 0   1   2   3   4   5   6   7\n",
    "user : list[int] = [1 , 2 , 4 , 7 , 6 , 9 , 10 , 5]\n",
    "# <                -8  -7  -6  -5  -4  -3  -2   -1\n",
    "\n",
    "user.clear() # delete all element from memory but remian object\n",
    "\n",
    "user = {user}\n",
    "\n",
    "\n",
    "\"\"\")"
   ]
  },
  {
   "cell_type": "markdown",
   "metadata": {},
   "source": [
    "# Copy"
   ]
  },
  {
   "cell_type": "markdown",
   "metadata": {},
   "source": [
    "```To copy a list make a slice that starts at the first item and\n",
    "ends at the last item. If you try to copy a list without using\n",
    "this approach, whatever you do to the copied list will affect\n",
    "the original list as well\n",
    "```"
   ]
  },
  {
   "cell_type": "code",
   "execution_count": 73,
   "metadata": {},
   "outputs": [
    {
     "name": "stdout",
     "output_type": "stream",
     "text": [
      "\n",
      "              \n",
      "old_list = ['Najma', 'fatima', 'uzma', 'kishwar', 'kosar']\n",
      "\n",
      "new_list = old_list [:]     same copy of old list\n",
      "\n",
      "new_ilst = ['Najma', 'fatima', 'uzma', 'kishwar', 'kosar']       print same copy\n",
      "\n",
      "a = new_list[:]             same copy of new list\n",
      "\n",
      "a.insert(1,\"iqra\")          After Insert \n",
      "\n",
      "a = ['Najma', 'iqra', 'fatima', 'uzma', 'kishwar', 'kosar']                     \n",
      "\n",
      "\n"
     ]
    }
   ],
   "source": [
    "# >           1       2      3       4       5\n",
    "old_list = ['Najma', 'fatima', 'uzma', 'kishwar', 'kosar']\n",
    "# <          -5      -4     -3      -2      -1\n",
    "\n",
    "new_list = old_list[:] #same copy\n",
    "\n",
    "a = new_list[:] #same copy\n",
    "\n",
    "a.insert(1,\"iqra\")\n",
    "\n",
    "print(f\"\"\"\n",
    "              \n",
    "old_list = {old_list}\n",
    "\n",
    "new_list = old_list [:]     same copy of old list\n",
    "\n",
    "new_ilst = {new_list}       print same copy\n",
    "\n",
    "a = new_list[:]             same copy of new list\n",
    "\n",
    "a.insert(1,\"iqra\")          After Insert \n",
    "\n",
    "a = {a}                     \n",
    "\n",
    "\"\"\")"
   ]
  },
  {
   "cell_type": "code",
   "execution_count": 32,
   "metadata": {},
   "outputs": [
    {
     "name": "stdout",
     "output_type": "stream",
     "text": [
      "\n",
      "\n",
      "copy method \n",
      "\n",
      "a = ['iqra', 'fatima', 'uzma']             \n",
      "\n",
      "b = a.copy()\n",
      "\n",
      "b = ['iqra', 'fatima', 'uzma']          same copy of a\n",
      "\n",
      "change index 0\n",
      "\n",
      "new [0] = \"Kosar\"    \n",
      "\n",
      "new = ['Kosar', 'fatima', 'uzma']     \"kosar\" replace \"iqra\"\n",
      "\n",
      "\n"
     ]
    }
   ],
   "source": [
    "a : list[str] = [\"iqra\",\"fatima\",\"uzma\"]\n",
    "\n",
    "b = a.copy()\n",
    "\n",
    "new = b.copy()     # Same copy of b\n",
    "\n",
    "new [0] = \"Kosar\"   # change index 0\n",
    "\n",
    "print(f\"\"\"\n",
    "\n",
    "copy method \n",
    "\n",
    "a = {a}             \n",
    "\n",
    "b = a.copy()\n",
    "\n",
    "b = {b}          same copy of a\n",
    "\n",
    "change index 0\n",
    "\n",
    "new [0] = \"Kosar\"    \n",
    "\n",
    "new = {new}     \"kosar\" replace \"iqra\"\n",
    "\n",
    "\"\"\")"
   ]
  },
  {
   "cell_type": "markdown",
   "metadata": {},
   "source": [
    "# count\n"
   ]
  },
  {
   "cell_type": "code",
   "execution_count": 59,
   "metadata": {},
   "outputs": [
    {
     "name": "stdout",
     "output_type": "stream",
     "text": [
      "                     \n",
      "                          1         2         3         4     \n",
      "name : list[int] = [10 , 20 , 30 , 20 , 50 , 20 , 10 , 20]   \n",
      "\n",
      "count = name.count(20)  \n",
      "\n",
      "count = 4\n",
      "\n"
     ]
    }
   ],
   "source": [
    "# >                      1         2         3         4     \n",
    "name : list[int] = [10 , 20 , 30 , 20 , 50 , 20 , 10 , 20]\n",
    "\n",
    "count = name.count(20)\n",
    "print(\n",
    "f\"\"\"                     \n",
    "                          1         2         3         4     \n",
    "name : list[int] = [10 , 20 , 30 , 20 , 50 , 20 , 10 , 20]   \n",
    "\n",
    "count = name.count(20)  \n",
    "\n",
    "count = {count}\n",
    "\"\"\")"
   ]
  },
  {
   "cell_type": "markdown",
   "metadata": {},
   "source": [
    "# extend\n"
   ]
  },
  {
   "cell_type": "code",
   "execution_count": 20,
   "metadata": {},
   "outputs": [
    {
     "name": "stdout",
     "output_type": "stream",
     "text": [
      "['Huzaifa', 'Amna', 'Muzammil', 'Aizal', 'kishwar', 'zara']\n"
     ]
    }
   ],
   "source": [
    "Children  : list[str] = ['Huzaifa','Amna','Muzammil']\n",
    "\n",
    "new_chid  : list[str] = ['Aizal','kishwar','zara']\n",
    "\n",
    "Children.extend(new_chid)\n",
    "\n",
    "print(Children)"
   ]
  },
  {
   "cell_type": "markdown",
   "metadata": {},
   "source": [
    "# Index\n"
   ]
  },
  {
   "cell_type": "code",
   "execution_count": 71,
   "metadata": {},
   "outputs": [
    {
     "name": "stdout",
     "output_type": "stream",
     "text": [
      "\n",
      "index method\n",
      "\n",
      "name : list [str] = [ \"Fatima\" , \"uzma\" , \"kishwar\" ]   \n",
      "\n",
      "a = name.index(\"Fatima\")\n",
      "   \n",
      "a = 0 \n",
      "\n",
      "\n"
     ]
    }
   ],
   "source": [
    "name : list [str] = [ \"Fatima\" , \"uzma\" , \"kishwar\" ] \n",
    "\n",
    "a = name.index(\"Fatima\")\n",
    "\n",
    "print(\n",
    "f\"\"\"\n",
    "index method\n",
    "\n",
    "name : list [str] = [ \"Fatima\" , \"uzma\" , \"kishwar\" ]   \n",
    "\n",
    "a = name.index(\"Fatima\")\n",
    "   \n",
    "a = {a} \n",
    "\n",
    "\"\"\")"
   ]
  },
  {
   "cell_type": "markdown",
   "metadata": {},
   "source": [
    "# pop\n",
    "` Popping Elements\n",
    "`"
   ]
  },
  {
   "cell_type": "markdown",
   "metadata": {},
   "source": [
    "If you want to work with an element that you're removing\n",
    "from the list, you can \"pop\" the item. If you think of the list as\n",
    "a stack of items, pop() takes an item off the top of the stack.\n",
    "By default pop() returns the last element in the list, but\n",
    "you can also pop elements from any position in the list\n"
   ]
  },
  {
   "cell_type": "markdown",
   "metadata": {},
   "source": [
    "`Pop the last item from a list\n",
    "`"
   ]
  },
  {
   "cell_type": "code",
   "execution_count": 112,
   "metadata": {},
   "outputs": [
    {
     "name": "stdout",
     "output_type": "stream",
     "text": [
      " pop is remove last item by default\n",
      " before pop ['Salma', 'Asma', 'Najma', 'kosar']\n",
      "\n",
      " after pop ['Salma', 'Asma', 'Najma']\n",
      "\n",
      " kosar is remove\n"
     ]
    }
   ],
   "source": [
    "a : list[str] = [\"Salma\",\"Asma\",\"Najma\",\"kosar\"]\n",
    "\n",
    "print(f\" pop is remove last item by default\\n before pop {a}\\n\")\n",
    "\n",
    "b = a.pop() # remove last item from a list\n",
    "\n",
    "print(f\" after pop {a}\\n\")\n",
    "\n",
    "print(f\" {b} is remove\") # Return Method"
   ]
  },
  {
   "cell_type": "markdown",
   "metadata": {},
   "source": [
    "`Pop the first item in a list\n",
    "`"
   ]
  },
  {
   "cell_type": "code",
   "execution_count": 93,
   "metadata": {},
   "outputs": [
    {
     "name": "stdout",
     "output_type": "stream",
     "text": [
      " before pop ['Salma', 'Asma', 'Najma', 'kosar'] \n",
      "\n",
      " after pop ['Asma', 'Najma', 'kosar'] \n",
      " remove first item from a list\n",
      " with the help of index[0] \n",
      "\n",
      " Salma\n",
      " Salma is 1st element which is located in index[0] \n"
     ]
    }
   ],
   "source": [
    "# >               0       1       2       3\n",
    "a : list[str] = [\"Salma\",\"Asma\",\"Najma\",\"kosar\"]\n",
    "# <              -4      -3      -2      -1\n",
    "\n",
    "print(f\" before pop {a} \\n\")\n",
    "\n",
    "b = a.pop(0) # remove first item from a list\n",
    "\n",
    "print(f\" after pop {a} \\n remove first item from a list\\n with the help of index[0] \\n\")\n",
    "\n",
    "print(f\" {b}\\n Salma is 1st element which is located in index[0] \") # Return Method"
   ]
  },
  {
   "cell_type": "markdown",
   "metadata": {},
   "source": [
    "# Sort\n",
    "` Sorting a list\n",
    "`"
   ]
  },
  {
   "cell_type": "markdown",
   "metadata": {},
   "source": [
    "The sort() method changes the order of a list permanently.\n",
    "The sorted() function returns a copy of the list, leaving the\n",
    "original list unchanged.\n",
    "You can sort the items in a list in alphabetical order, or\n",
    "reverse alphabetical order. You can also reverse the original\n",
    "order of the list. Keep in mind that lowercase and uppercase\n",
    "letters may affect the sort order.\n"
   ]
  },
  {
   "cell_type": "code",
   "execution_count": 3,
   "metadata": {},
   "outputs": [
    {
     "data": {
      "text/plain": [
       "[1, 3, 7, 8]"
      ]
     },
     "execution_count": 3,
     "metadata": {},
     "output_type": "execute_result"
    }
   ],
   "source": [
    "sorted([7,8,1,3]) # Global Function"
   ]
  },
  {
   "cell_type": "markdown",
   "metadata": {},
   "source": [
    "`Sorting a list permanently\n",
    "`"
   ]
  },
  {
   "cell_type": "code",
   "execution_count": 64,
   "metadata": {},
   "outputs": [
    {
     "name": "stdout",
     "output_type": "stream",
     "text": [
      "Before Sorting [9, 8, 4, 3, 2, 10, 1, 5, 6, 7] \n",
      " \n",
      "After Sorting [1, 2, 3, 4, 5, 6, 7, 8, 9, 10]\n"
     ]
    }
   ],
   "source": [
    "num : list[int] = [9,8,4,3,2,10,1,5,6,7]\n",
    "\n",
    "print(f'Before Sorting {num} \\n ')\n",
    "\n",
    "num.sort()\n",
    "\n",
    "print(f'After Sorting {num}')"
   ]
  },
  {
   "cell_type": "markdown",
   "metadata": {},
   "source": [
    "`Sorting a list permanently in reverse alphabetical order\n",
    "`"
   ]
  },
  {
   "cell_type": "code",
   "execution_count": 63,
   "metadata": {},
   "outputs": [
    {
     "name": "stdout",
     "output_type": "stream",
     "text": [
      "Before Sorting [9, 8, 4, 3, 2, 10, 1, 5, 6, 7] \n",
      "\n",
      "After sorting [10, 9, 8, 7, 6, 5, 4, 3, 2, 1] reverse\n"
     ]
    }
   ],
   "source": [
    "num : list[int] = [9,8,4,3,2,10,1,5,6,7]\n",
    "\n",
    "print(f'Before Sorting {num} \\n')\n",
    "\n",
    "num.sort(reverse=True)\n",
    "\n",
    "print(f'After sorting {num} reverse')"
   ]
  },
  {
   "cell_type": "markdown",
   "metadata": {},
   "source": [
    "`Sorting a list temporarily\n",
    "`"
   ]
  },
  {
   "cell_type": "code",
   "execution_count": 62,
   "metadata": {},
   "outputs": [
    {
     "name": "stdout",
     "output_type": "stream",
     "text": [
      "[1, 2, 3, 4, 5, 6, 7, 8, 9, 10]\n",
      "\n",
      "\n",
      "[10, 9, 8, 7, 6, 5, 4, 3, 2, 1]\n"
     ]
    }
   ],
   "source": [
    "print(sorted(num) )\n",
    "\n",
    "print(\"\\n\")\n",
    "\n",
    "print(sorted(num,reverse=True))"
   ]
  },
  {
   "cell_type": "markdown",
   "metadata": {},
   "source": [
    "# Reverse\n",
    "`Reversing the order of a list\n",
    "`"
   ]
  },
  {
   "cell_type": "code",
   "execution_count": 61,
   "metadata": {},
   "outputs": [
    {
     "name": "stdout",
     "output_type": "stream",
     "text": [
      "before Reverse [9, 2, 3, 4, 8, 5, 1, 7, 10, 6] \n",
      "\n",
      "After Reverse [6, 10, 7, 1, 5, 8, 4, 3, 2, 9]\n"
     ]
    }
   ],
   "source": [
    "a : list[int] = [9 , 2 , 3 , 4 , 8 , 5 , 1 , 7 , 10 , 6]\n",
    "\n",
    "print(f\"before Reverse {a} \\n\")\n",
    "\n",
    "a.reverse() # Reverse Method\n",
    "\n",
    "print(f\"After Reverse {a}\")"
   ]
  },
  {
   "cell_type": "markdown",
   "metadata": {},
   "source": [
    "# Simple statistics\n"
   ]
  },
  {
   "cell_type": "markdown",
   "metadata": {},
   "source": [
    "`There are a number of simple statistical operations you can run on a list containing numerical data.`\n"
   ]
  },
  {
   "cell_type": "markdown",
   "metadata": {},
   "source": [
    "`Finding the minimum value in a list`\n"
   ]
  },
  {
   "cell_type": "code",
   "execution_count": null,
   "metadata": {},
   "outputs": [
    {
     "name": "stdout",
     "output_type": "stream",
     "text": [
      "\n",
      " ages list [43, 40, 37, 33]\n",
      "\n",
      " youngest 33\n"
     ]
    }
   ],
   "source": [
    "\n",
    "ages = [43,40,37,33]\n",
    "\n",
    "print(f'\\n ages list {ages}\\n')\n",
    "\n",
    "youngest = min(ages)\n",
    "\n",
    "print(f\" youngest {youngest}\")"
   ]
  },
  {
   "cell_type": "markdown",
   "metadata": {},
   "source": [
    "# Finding the maximum value\n"
   ]
  },
  {
   "cell_type": "code",
   "execution_count": 121,
   "metadata": {},
   "outputs": [
    {
     "name": "stdout",
     "output_type": "stream",
     "text": [
      "\n",
      "Ages list [43, 40, 37, 33]\n",
      "\n",
      "oldest 43\n",
      "\n"
     ]
    }
   ],
   "source": [
    "ages = [43,40,37,33]\n",
    "\n",
    "print(f\"\\nAges list {ages}\\n\")\n",
    "\n",
    "oldest = max(ages)\n",
    "\n",
    "print(f\"oldest {oldest}\\n\")"
   ]
  },
  {
   "cell_type": "markdown",
   "metadata": {},
   "source": [
    "`Finding the sum of all values\n",
    "`"
   ]
  },
  {
   "cell_type": "code",
   "execution_count": 125,
   "metadata": {},
   "outputs": [
    {
     "name": "stdout",
     "output_type": "stream",
     "text": [
      "\n",
      "ages [43, 40, 37, 33]\n",
      "\n",
      "Sum  153\n"
     ]
    }
   ],
   "source": [
    "ages = [43,40,37,33]\n",
    "\n",
    "print(f'\\nages {ages}\\n')\n",
    "\n",
    "total_years = sum(ages)\n",
    "\n",
    "print(f\"Sum  {total_years}\")"
   ]
  }
 ],
 "metadata": {
  "kernelspec": {
   "display_name": "myenv",
   "language": "python",
   "name": "python3"
  },
  "language_info": {
   "codemirror_mode": {
    "name": "ipython",
    "version": 3
   },
   "file_extension": ".py",
   "mimetype": "text/x-python",
   "name": "python",
   "nbconvert_exporter": "python",
   "pygments_lexer": "ipython3",
   "version": "3.12.0"
  }
 },
 "nbformat": 4,
 "nbformat_minor": 2
}
